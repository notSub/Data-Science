{
 "cells": [
  {
   "cell_type": "code",
   "execution_count": 2,
   "id": "ba8bc689-9e0c-4a5c-a0a8-6336d417abb1",
   "metadata": {},
   "outputs": [],
   "source": [
    "# Naive Bayes and Sentiment Analysis:"
   ]
  },
  {
   "cell_type": "code",
   "execution_count": 3,
   "id": "4d0835ba-56ef-409e-8f85-2094eb715b70",
   "metadata": {},
   "outputs": [],
   "source": [
    "# Importing all the necessary libraries:\n",
    "import pandas as pd\n",
    "import numpy as np\n",
    "import matplotlib.pyplot as plt\n",
    "import seaborn as sns\n",
    "%matplotlib inline"
   ]
  },
  {
   "cell_type": "code",
   "execution_count": 4,
   "id": "788afbb4-dcbb-4d5a-970f-27b5d17e9510",
   "metadata": {},
   "outputs": [],
   "source": [
    "# Data Preparation:"
   ]
  },
  {
   "cell_type": "code",
   "execution_count": 5,
   "id": "eebe6fc9-935a-4837-8775-9df9b87a81b4",
   "metadata": {},
   "outputs": [
    {
     "data": {
      "text/html": [
       "<div>\n",
       "<style scoped>\n",
       "    .dataframe tbody tr th:only-of-type {\n",
       "        vertical-align: middle;\n",
       "    }\n",
       "\n",
       "    .dataframe tbody tr th {\n",
       "        vertical-align: top;\n",
       "    }\n",
       "\n",
       "    .dataframe thead th {\n",
       "        text-align: right;\n",
       "    }\n",
       "</style>\n",
       "<table border=\"1\" class=\"dataframe\">\n",
       "  <thead>\n",
       "    <tr style=\"text-align: right;\">\n",
       "      <th></th>\n",
       "      <th>Data</th>\n",
       "      <th>Labels</th>\n",
       "    </tr>\n",
       "  </thead>\n",
       "  <tbody>\n",
       "    <tr>\n",
       "      <th>0</th>\n",
       "      <td>Path: cantaloupe.srv.cs.cmu.edu!magnesium.club...</td>\n",
       "      <td>alt.atheism</td>\n",
       "    </tr>\n",
       "    <tr>\n",
       "      <th>1</th>\n",
       "      <td>Newsgroups: alt.atheism\\nPath: cantaloupe.srv....</td>\n",
       "      <td>alt.atheism</td>\n",
       "    </tr>\n",
       "    <tr>\n",
       "      <th>2</th>\n",
       "      <td>Path: cantaloupe.srv.cs.cmu.edu!das-news.harva...</td>\n",
       "      <td>alt.atheism</td>\n",
       "    </tr>\n",
       "    <tr>\n",
       "      <th>3</th>\n",
       "      <td>Path: cantaloupe.srv.cs.cmu.edu!magnesium.club...</td>\n",
       "      <td>alt.atheism</td>\n",
       "    </tr>\n",
       "    <tr>\n",
       "      <th>4</th>\n",
       "      <td>Xref: cantaloupe.srv.cs.cmu.edu alt.atheism:53...</td>\n",
       "      <td>alt.atheism</td>\n",
       "    </tr>\n",
       "  </tbody>\n",
       "</table>\n",
       "</div>"
      ],
      "text/plain": [
       "                                                Data       Labels\n",
       "0  Path: cantaloupe.srv.cs.cmu.edu!magnesium.club...  alt.atheism\n",
       "1  Newsgroups: alt.atheism\\nPath: cantaloupe.srv....  alt.atheism\n",
       "2  Path: cantaloupe.srv.cs.cmu.edu!das-news.harva...  alt.atheism\n",
       "3  Path: cantaloupe.srv.cs.cmu.edu!magnesium.club...  alt.atheism\n",
       "4  Xref: cantaloupe.srv.cs.cmu.edu alt.atheism:53...  alt.atheism"
      ]
     },
     "execution_count": 5,
     "metadata": {},
     "output_type": "execute_result"
    }
   ],
   "source": [
    "df=pd.read_csv('blogs.csv')\n",
    "df.head()"
   ]
  },
  {
   "cell_type": "code",
   "execution_count": 6,
   "id": "2cca4b26-e843-4742-940d-e40f847559eb",
   "metadata": {},
   "outputs": [],
   "source": [
    "# 1. Data Exploration and Preprocessing"
   ]
  },
  {
   "cell_type": "code",
   "execution_count": 7,
   "id": "f89a185c-ff48-4775-b9b2-f94794e71569",
   "metadata": {},
   "outputs": [
    {
     "data": {
      "text/plain": [
       "(2000, 2)"
      ]
     },
     "execution_count": 7,
     "metadata": {},
     "output_type": "execute_result"
    }
   ],
   "source": [
    "df.shape"
   ]
  },
  {
   "cell_type": "code",
   "execution_count": 8,
   "id": "d5b370d0-e426-4e8d-9758-04b7d56bba9f",
   "metadata": {},
   "outputs": [
    {
     "data": {
      "text/plain": [
       "Data      0\n",
       "Labels    0\n",
       "dtype: int64"
      ]
     },
     "execution_count": 8,
     "metadata": {},
     "output_type": "execute_result"
    }
   ],
   "source": [
    "# Checking for missing values:\n",
    "# There are no missing values found.\n",
    "df.isna().sum()"
   ]
  },
  {
   "cell_type": "code",
   "execution_count": 9,
   "id": "654b603d-a851-4cc9-8e33-828e30625cd7",
   "metadata": {},
   "outputs": [
    {
     "name": "stderr",
     "output_type": "stream",
     "text": [
      "[nltk_data] Downloading package stopwords to\n",
      "[nltk_data]     C:\\Users\\subha\\AppData\\Roaming\\nltk_data...\n",
      "[nltk_data]   Package stopwords is already up-to-date!\n"
     ]
    }
   ],
   "source": [
    "import string\n",
    "import nltk\n",
    "from nltk.corpus import stopwords\n",
    "\n",
    "\n",
    "# Download stopwords from nltk\n",
    "nltk.download('stopwords')\n",
    "\n",
    "# Initialize stopwords\n",
    "stop_words = set(stopwords.words('english'))"
   ]
  },
  {
   "cell_type": "code",
   "execution_count": 10,
   "id": "937597af-18e3-4e12-a4a7-240ecc51ad5b",
   "metadata": {},
   "outputs": [],
   "source": [
    "# Function to preprocess text\n",
    "def preprocess_text(text):\n",
    "    # Remove punctuation\n",
    "    text = text.translate(str.maketrans('', '', string.punctuation))\n",
    "    # Convert to lowercase\n",
    "    text = text.lower()\n",
    "    # Tokenize the text\n",
    "    tokens = text.split()\n",
    "    # Remove stopwords\n",
    "    tokens = [word for word in tokens if word not in stop_words]\n",
    "    return ' '.join(tokens)"
   ]
  },
  {
   "cell_type": "code",
   "execution_count": 11,
   "id": "bfddbf86-1be0-45f0-a6cc-af832913bcdb",
   "metadata": {},
   "outputs": [
    {
     "name": "stdout",
     "output_type": "stream",
     "text": [
      "                                                Data       Labels  \\\n",
      "0  Path: cantaloupe.srv.cs.cmu.edu!magnesium.club...  alt.atheism   \n",
      "1  Newsgroups: alt.atheism\\nPath: cantaloupe.srv....  alt.atheism   \n",
      "2  Path: cantaloupe.srv.cs.cmu.edu!das-news.harva...  alt.atheism   \n",
      "3  Path: cantaloupe.srv.cs.cmu.edu!magnesium.club...  alt.atheism   \n",
      "4  Xref: cantaloupe.srv.cs.cmu.edu alt.atheism:53...  alt.atheism   \n",
      "\n",
      "                                      Processed_Data  \n",
      "0  path cantaloupesrvcscmuedumagnesiumclubcccmued...  \n",
      "1  newsgroups altatheism path cantaloupesrvcscmue...  \n",
      "2  path cantaloupesrvcscmuedudasnewsharvardedunoc...  \n",
      "3  path cantaloupesrvcscmuedumagnesiumclubcccmued...  \n",
      "4  xref cantaloupesrvcscmuedu altatheism53485 tal...  \n"
     ]
    }
   ],
   "source": [
    "# Apply preprocessing to the Data column\n",
    "df['Processed_Data'] = df['Data'].apply(preprocess_text)\n",
    "\n",
    "# Display the first few rows of the processed data\n",
    "print(df.head())"
   ]
  },
  {
   "cell_type": "code",
   "execution_count": 12,
   "id": "6744244d-7ea2-43aa-9a4f-28e83867f2f4",
   "metadata": {},
   "outputs": [
    {
     "data": {
      "text/html": [
       "<div>\n",
       "<style scoped>\n",
       "    .dataframe tbody tr th:only-of-type {\n",
       "        vertical-align: middle;\n",
       "    }\n",
       "\n",
       "    .dataframe tbody tr th {\n",
       "        vertical-align: top;\n",
       "    }\n",
       "\n",
       "    .dataframe thead th {\n",
       "        text-align: right;\n",
       "    }\n",
       "</style>\n",
       "<table border=\"1\" class=\"dataframe\">\n",
       "  <thead>\n",
       "    <tr style=\"text-align: right;\">\n",
       "      <th></th>\n",
       "      <th>Data</th>\n",
       "      <th>Labels</th>\n",
       "      <th>Processed_Data</th>\n",
       "    </tr>\n",
       "  </thead>\n",
       "  <tbody>\n",
       "    <tr>\n",
       "      <th>0</th>\n",
       "      <td>Path: cantaloupe.srv.cs.cmu.edu!magnesium.club...</td>\n",
       "      <td>alt.atheism</td>\n",
       "      <td>path cantaloupesrvcscmuedumagnesiumclubcccmued...</td>\n",
       "    </tr>\n",
       "    <tr>\n",
       "      <th>1</th>\n",
       "      <td>Newsgroups: alt.atheism\\nPath: cantaloupe.srv....</td>\n",
       "      <td>alt.atheism</td>\n",
       "      <td>newsgroups altatheism path cantaloupesrvcscmue...</td>\n",
       "    </tr>\n",
       "    <tr>\n",
       "      <th>2</th>\n",
       "      <td>Path: cantaloupe.srv.cs.cmu.edu!das-news.harva...</td>\n",
       "      <td>alt.atheism</td>\n",
       "      <td>path cantaloupesrvcscmuedudasnewsharvardedunoc...</td>\n",
       "    </tr>\n",
       "    <tr>\n",
       "      <th>3</th>\n",
       "      <td>Path: cantaloupe.srv.cs.cmu.edu!magnesium.club...</td>\n",
       "      <td>alt.atheism</td>\n",
       "      <td>path cantaloupesrvcscmuedumagnesiumclubcccmued...</td>\n",
       "    </tr>\n",
       "    <tr>\n",
       "      <th>4</th>\n",
       "      <td>Xref: cantaloupe.srv.cs.cmu.edu alt.atheism:53...</td>\n",
       "      <td>alt.atheism</td>\n",
       "      <td>xref cantaloupesrvcscmuedu altatheism53485 tal...</td>\n",
       "    </tr>\n",
       "  </tbody>\n",
       "</table>\n",
       "</div>"
      ],
      "text/plain": [
       "                                                Data       Labels  \\\n",
       "0  Path: cantaloupe.srv.cs.cmu.edu!magnesium.club...  alt.atheism   \n",
       "1  Newsgroups: alt.atheism\\nPath: cantaloupe.srv....  alt.atheism   \n",
       "2  Path: cantaloupe.srv.cs.cmu.edu!das-news.harva...  alt.atheism   \n",
       "3  Path: cantaloupe.srv.cs.cmu.edu!magnesium.club...  alt.atheism   \n",
       "4  Xref: cantaloupe.srv.cs.cmu.edu alt.atheism:53...  alt.atheism   \n",
       "\n",
       "                                      Processed_Data  \n",
       "0  path cantaloupesrvcscmuedumagnesiumclubcccmued...  \n",
       "1  newsgroups altatheism path cantaloupesrvcscmue...  \n",
       "2  path cantaloupesrvcscmuedudasnewsharvardedunoc...  \n",
       "3  path cantaloupesrvcscmuedumagnesiumclubcccmued...  \n",
       "4  xref cantaloupesrvcscmuedu altatheism53485 tal...  "
      ]
     },
     "execution_count": 12,
     "metadata": {},
     "output_type": "execute_result"
    }
   ],
   "source": [
    "df.head()"
   ]
  },
  {
   "cell_type": "code",
   "execution_count": 13,
   "id": "119931ea-f1b9-44cd-b7c9-a619d15c7f92",
   "metadata": {},
   "outputs": [
    {
     "data": {
      "text/plain": [
       "0    path cantaloupesrvcscmuedumagnesiumclubcccmuedunewsseicmueducisohiostateeduzaphodmpsohiostateeduhowlandrestonansnetagatedocicacukuknetmcsungermanyeunetthothmchpsnidehorusapmchpsnided012s658frank frankd012s658uucp frank odwyer newsgroups altatheism subject islamic genocide date 23 apr 1993 235147 gmt organization siemensnixdorf ag lines 110 distribution world messageid 1r9vej5k5horusapmchpsnide references 1r4o8a6qefidoasdsgicom 1r5ublbd6horusapmchpsnide 1r76ek7uofidoasdsgicom nntppostinghost d012s658apmchpsnide article 1r76ek7uofidoasdsgicom liveseysolntzewpdsgicom jon livesey writes article 1r5ublbd6horusapmchpsnide frankd012s658uucp frank odwyer writes article 1r4o8a6qefidoasdsgicom liveseysolntzewpdsgicom jon livesey writes noting particular society case mainland uk religously motivated murders murders kind says little whether interreligion murders elsewhere religiously motivated allows one conclude nothing inherent religion matter catholicism protestantism motivates one kill motivates allows christian bible says one may kill certain circumstances fact instructs one kill certain circumstances id say majority people moral system instructs kill certain circumstances get distinction motivate allow agree flavour theism allows atoricities thats indictment theism rather depends certain circumstances talk christianity islam least claims understood people go general statement theism falls apart one could believe god instructs one utterly harmless part conclude something else required also happen believe something else work less well without religion easy themus religion supply easy themus necessarily love thy neighbour supply themus demolishes definition religion broader definition theism explained insisting even murder four labourers chosen catholics nothing ira protestant extremists religously motivated think saying simply accept murder religiously motivated guy cut someones head believed devil incarnate religously motivated protestant extremists killed four catholic labourers wasnt religiously motivated opinion obscure point theology yes since protestants dont elect extremists broad say religion im saying causes far complex take away religious element youd still powerful motives revenge misguided patriotism know catholics protestants worldwide say stop killing one might listen especially claim read minds also murders ensuing fatwa mr rushdie inquisitions many religous wars whats special exceptions isnt grabbag adhoc excuses considering murders religiously motivated whats general principle behind general principle fairly clear least religion primary motivator enabler whatever nearly obvious whats going one looks ni apart violence course abstract argument northern irish protestants say dont want absorbed officially catholic country supposed supposed reply thats think dont want mr odwyer assures us matter say want really want something else think unionists wouldnt mind absorbed noncatholic country uk course terrible thing lose mind maybe word country kicks certainly dont believe unionists god think wish maintain position privilege im still listening say still telling us version think read minds dont youve speculated motives often enough dont take statements beliefs face value therefore claim read minds credibility sorry also note fail answer question looks much like axe grind especially indeed ignoring protestants say stop killing people refer properly described unionists protestants position privilege religion based based politics bigotry heartless extremism none things synonymous religion though certainly overlap frank odwyer im hatching odwyersseie hens evelyn conlon\n",
       "Name: Processed_Data, dtype: object"
      ]
     },
     "execution_count": 13,
     "metadata": {},
     "output_type": "execute_result"
    }
   ],
   "source": [
    "# To see data present in a sample:\n",
    "\n",
    "pd.set_option('display.max_colwidth', None)\n",
    "df.Processed_Data.head(1)"
   ]
  },
  {
   "cell_type": "code",
   "execution_count": 14,
   "id": "1c235e4d-5729-426c-bc07-aaf9b7aa2d32",
   "metadata": {},
   "outputs": [],
   "source": [
    "# 2. Naive Bayes Model for Text Classification:"
   ]
  },
  {
   "cell_type": "code",
   "execution_count": 15,
   "id": "389649e6-74cf-4b32-92ad-1261f6945728",
   "metadata": {},
   "outputs": [],
   "source": [
    "# Building the model:\n",
    "\n",
    "X=df['Processed_Data']\n",
    "y=df['Labels']"
   ]
  },
  {
   "cell_type": "code",
   "execution_count": 16,
   "id": "c3870e3f-28c4-44b9-a6d7-7c0fc1b0d930",
   "metadata": {},
   "outputs": [],
   "source": [
    "# Split the data into training and test sets:\n",
    "from sklearn.model_selection import train_test_split\n",
    "\n",
    "X_train, X_test, y_train, y_test = train_test_split(X,y, test_size=0.2, random_state=42)"
   ]
  },
  {
   "cell_type": "code",
   "execution_count": 17,
   "id": "3dc8c80c-c5b6-446c-a174-e7e4aca4f093",
   "metadata": {},
   "outputs": [],
   "source": [
    "# Extract features using TF-IDF\n",
    "\n",
    "from sklearn.feature_extraction.text import TfidfVectorizer\n",
    "\n",
    "tfidf_vectorizer = TfidfVectorizer(max_features=5000)\n",
    "X_train_tfidf = tfidf_vectorizer.fit_transform(X_train)\n",
    "X_test_tfidf = tfidf_vectorizer.transform(X_test)"
   ]
  },
  {
   "cell_type": "code",
   "execution_count": 18,
   "id": "5290d8dc-b89e-4c45-94d9-dd126b65b9d5",
   "metadata": {},
   "outputs": [],
   "source": [
    "# Applying the NB classifier:\n",
    "from sklearn.naive_bayes import MultinomialNB\n",
    "\n",
    "# Train a Naive Bayes classifier\n",
    "nb_classifier = MultinomialNB()\n",
    "nb_classifier.fit(X_train_tfidf, y_train)\n",
    "\n",
    "# Make predictions on the test set\n",
    "y_pred = nb_classifier.predict(X_test_tfidf)"
   ]
  },
  {
   "cell_type": "code",
   "execution_count": 19,
   "id": "4e55cc88-3884-437c-8712-1215f21aefd1",
   "metadata": {},
   "outputs": [],
   "source": [
    "# 3. Evaluation:"
   ]
  },
  {
   "cell_type": "code",
   "execution_count": 20,
   "id": "ffac8b4f-22f1-4718-a420-311b0eda599d",
   "metadata": {},
   "outputs": [
    {
     "name": "stdout",
     "output_type": "stream",
     "text": [
      "Accuracy: 0.8300\n",
      "Precision: 0.8353\n",
      "Recall: 0.8300\n",
      "F1 Score: 0.8246\n",
      "Classification Report:\n",
      "                          precision    recall  f1-score   support\n",
      "\n",
      "             alt.atheism       0.50      0.83      0.62        18\n",
      "           comp.graphics       0.79      0.83      0.81        18\n",
      " comp.os.ms-windows.misc       0.86      0.82      0.84        22\n",
      "comp.sys.ibm.pc.hardware       0.86      0.76      0.81        25\n",
      "   comp.sys.mac.hardware       0.87      0.95      0.91        21\n",
      "          comp.windows.x       0.91      0.84      0.88        25\n",
      "            misc.forsale       0.79      0.83      0.81        18\n",
      "               rec.autos       0.89      0.94      0.92        18\n",
      "         rec.motorcycles       0.94      0.94      0.94        16\n",
      "      rec.sport.baseball       0.77      0.94      0.85        18\n",
      "        rec.sport.hockey       0.94      1.00      0.97        15\n",
      "               sci.crypt       0.90      0.95      0.92        19\n",
      "         sci.electronics       0.62      0.62      0.62        16\n",
      "                 sci.med       0.88      0.88      0.88        17\n",
      "               sci.space       1.00      0.86      0.92        21\n",
      "  soc.religion.christian       0.88      0.96      0.92        23\n",
      "      talk.politics.guns       0.88      0.79      0.83        28\n",
      "   talk.politics.mideast       1.00      0.90      0.95        20\n",
      "      talk.politics.misc       0.76      0.89      0.82        18\n",
      "      talk.religion.misc       0.60      0.25      0.35        24\n",
      "\n",
      "                accuracy                           0.83       400\n",
      "               macro avg       0.83      0.84      0.83       400\n",
      "            weighted avg       0.84      0.83      0.82       400\n",
      "\n"
     ]
    }
   ],
   "source": [
    "# Metrics:\n",
    "from sklearn.metrics import accuracy_score, precision_score, recall_score, f1_score, classification_report\n",
    "\n",
    "# Evaluate the model\n",
    "accuracy = accuracy_score(y_test, y_pred)\n",
    "precision = precision_score(y_test, y_pred, average='weighted')\n",
    "recall = recall_score(y_test, y_pred, average='weighted')\n",
    "f1 = f1_score(y_test, y_pred, average='weighted')\n",
    "classification_rep = classification_report(y_test, y_pred)\n",
    "\n",
    "print(f'Accuracy: {accuracy:.4f}')\n",
    "print(f'Precision: {precision:.4f}')\n",
    "print(f'Recall: {recall:.4f}')\n",
    "print(f'F1 Score: {f1:.4f}')\n",
    "print('Classification Report:')\n",
    "print(classification_rep)"
   ]
  },
  {
   "cell_type": "code",
   "execution_count": 21,
   "id": "753c3ec2-f0b2-4d36-96ce-1fdb958a1174",
   "metadata": {},
   "outputs": [],
   "source": [
    "# Summary of Metrics: Overall the performance of our model is really good.\n",
    "\n",
    "# Accuracy (83.00%) :  This means that 83% of the blog posts were correctly categorized into their respective categories.\n",
    "# Precision (83.53%):  This indicates that when the model predicts a category, it is correct 83.53% of the time.\n",
    "# Recall (83.00%)   :  This measures how well the model can find all the relevant blog posts for each category. In this case, it correctly identifies 83% of \n",
    "#                      the relevant posts.\n",
    "# F1 Score (82.46%) :  This is the harmonic mean of precision and recall, providing a balance between the two. An F1 score of 82.46% indicates that the model\n",
    "#                      has a good balance of precision and recall."
   ]
  },
  {
   "cell_type": "code",
   "execution_count": 22,
   "id": "15103180-869c-4e1f-9702-027baccec2f2",
   "metadata": {},
   "outputs": [],
   "source": [
    "# 4. Sentiment Analysis:"
   ]
  },
  {
   "cell_type": "code",
   "execution_count": 23,
   "id": "d9a0b70f-c088-4fe8-920d-111d7e7b60f0",
   "metadata": {},
   "outputs": [],
   "source": [
    "# Install the vaderSentiment library if not already installed\n",
    "# !pip install vaderSentiment"
   ]
  },
  {
   "cell_type": "code",
   "execution_count": 24,
   "id": "4548bfa1-f1ba-4293-8f50-fced7f121c87",
   "metadata": {},
   "outputs": [],
   "source": [
    "from vaderSentiment.vaderSentiment import SentimentIntensityAnalyzer\n",
    "\n",
    "# Initialize the VADER sentiment analyzer\n",
    "analyzer = SentimentIntensityAnalyzer()\n",
    "\n",
    "# Function to analyze sentiment\n",
    "def analyze_sentiment(text):\n",
    "    scores = analyzer.polarity_scores(text)\n",
    "    compound = scores['compound']\n",
    "    if compound >= 0.05:\n",
    "        return 'positive'\n",
    "    elif compound <= -0.05:\n",
    "        return 'negative'\n",
    "    else:\n",
    "        return 'neutral'\n",
    "\n",
    "# Apply sentiment analysis to the Data column\n",
    "df['Sentiment'] = df['Data'].apply(analyze_sentiment)"
   ]
  },
  {
   "cell_type": "code",
   "execution_count": 25,
   "id": "c0010785-7237-48f7-9628-17cd148d447f",
   "metadata": {},
   "outputs": [],
   "source": [
    "pd.set_option('display.max_colwidth', 50)"
   ]
  },
  {
   "cell_type": "code",
   "execution_count": 26,
   "id": "9887e79a-8353-4275-962f-089b84ca5ed1",
   "metadata": {},
   "outputs": [
    {
     "name": "stdout",
     "output_type": "stream",
     "text": [
      "                                                Data       Labels  \\\n",
      "0  Path: cantaloupe.srv.cs.cmu.edu!magnesium.club...  alt.atheism   \n",
      "1  Newsgroups: alt.atheism\\nPath: cantaloupe.srv....  alt.atheism   \n",
      "2  Path: cantaloupe.srv.cs.cmu.edu!das-news.harva...  alt.atheism   \n",
      "3  Path: cantaloupe.srv.cs.cmu.edu!magnesium.club...  alt.atheism   \n",
      "4  Xref: cantaloupe.srv.cs.cmu.edu alt.atheism:53...  alt.atheism   \n",
      "\n",
      "                                      Processed_Data Sentiment  \n",
      "0  path cantaloupesrvcscmuedumagnesiumclubcccmued...  negative  \n",
      "1  newsgroups altatheism path cantaloupesrvcscmue...  positive  \n",
      "2  path cantaloupesrvcscmuedudasnewsharvardedunoc...  negative  \n",
      "3  path cantaloupesrvcscmuedumagnesiumclubcccmued...  negative  \n",
      "4  xref cantaloupesrvcscmuedu altatheism53485 tal...  positive  \n"
     ]
    }
   ],
   "source": [
    "# Display the first few rows of the sentiment analysis results\n",
    "print(df.head())"
   ]
  },
  {
   "cell_type": "code",
   "execution_count": 27,
   "id": "391cbb12-1c3c-4b8d-8d68-421dba7150c1",
   "metadata": {},
   "outputs": [
    {
     "name": "stdout",
     "output_type": "stream",
     "text": [
      "Sentiment                 negative  neutral  positive\n",
      "Labels                                               \n",
      "alt.atheism                   0.41     0.01      0.58\n",
      "comp.graphics                 0.11     0.02      0.87\n",
      "comp.os.ms-windows.misc       0.21     0.02      0.77\n",
      "comp.sys.ibm.pc.hardware      0.18     0.01      0.81\n",
      "comp.sys.mac.hardware         0.24     0.04      0.72\n",
      "comp.windows.x                0.18     0.02      0.80\n",
      "misc.forsale                  0.08     0.08      0.84\n",
      "rec.autos                     0.27      NaN      0.73\n",
      "rec.motorcycles               0.30     0.01      0.69\n",
      "rec.sport.baseball            0.26     0.01      0.73\n",
      "rec.sport.hockey              0.22     0.01      0.77\n",
      "sci.crypt                     0.30      NaN      0.70\n",
      "sci.electronics               0.19     0.03      0.78\n",
      "sci.med                       0.30     0.01      0.69\n",
      "sci.space                     0.32     0.03      0.65\n",
      "soc.religion.christian        0.28      NaN      0.72\n",
      "talk.politics.guns            0.68     0.02      0.30\n",
      "talk.politics.mideast         0.69      NaN      0.31\n",
      "talk.politics.misc            0.49      NaN      0.51\n",
      "talk.religion.misc            0.38      NaN      0.62\n"
     ]
    }
   ],
   "source": [
    "# Examine the distribution of sentiments across different categories\n",
    "sentiment_distribution = df.groupby('Labels')['Sentiment'].value_counts(normalize=True).unstack()\n",
    "print(sentiment_distribution)"
   ]
  },
  {
   "cell_type": "code",
   "execution_count": 28,
   "id": "93deb05a-3b9e-4c44-aaa2-bbe645ae6edf",
   "metadata": {},
   "outputs": [],
   "source": [
    "# Summary of Sentiment Distribution:\n",
    "\n",
    "# Positive Sentiment Dominance:\n",
    "#     Categories like comp.graphics, comp.os.ms-windows.misc, comp.sys.ibm.pc.hardware, comp.windows.x, and misc.forsale have a high proportion of positive \n",
    "#     sentiments, indicating that the content in these categories is generally well-received.\n",
    "#     Categories related to hobbies and interests such as rec.autos, rec.motorcycles, rec.sport.baseball, and rec.sport.hockey also show a strong positive \n",
    "#     sentiment.\n",
    "\n",
    "# Negative Sentiment Concerns:\n",
    "#     Categories like alt.atheism, talk.politics.guns, talk.politics.mideast, and talk.politics.misc have a higher proportion of negative sentiments, \n",
    "#     reflecting potential controversy or dissatisfaction among users in these categories.\n",
    "#     talk.politics.guns and talk.politics.mideast have the highest negative sentiments, which is not surprising given the often contentious nature of these \n",
    "#     topics.\n",
    "\n",
    "# Neutral Sentiment Anomalies:\n",
    "#     Some categories like rec.autos, sci.crypt, soc.religion.christian, talk.politics.mideast, and talk.politics.misc show NaN for neutral sentiment. This \n",
    "#     could be due to a lack of sufficient data points classified as neutral or an issue with the sentiment analysis process."
   ]
  },
  {
   "cell_type": "code",
   "execution_count": 29,
   "id": "57c647dc-0ed9-4581-9622-b54dc5071fd9",
   "metadata": {},
   "outputs": [],
   "source": [
    "# Conclusion: We have performed all the tasks and made a relevant sentiment distribution on the blogs_categories.csv dataset using the naive bayes\n",
    "# classifier"
   ]
  }
 ],
 "metadata": {
  "kernelspec": {
   "display_name": "Python 3 (ipykernel)",
   "language": "python",
   "name": "python3"
  },
  "language_info": {
   "codemirror_mode": {
    "name": "ipython",
    "version": 3
   },
   "file_extension": ".py",
   "mimetype": "text/x-python",
   "name": "python",
   "nbconvert_exporter": "python",
   "pygments_lexer": "ipython3",
   "version": "3.11.7"
  }
 },
 "nbformat": 4,
 "nbformat_minor": 5
}
