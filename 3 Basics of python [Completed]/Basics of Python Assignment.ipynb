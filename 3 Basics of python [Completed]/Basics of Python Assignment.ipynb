{
 "cells": [
  {
   "cell_type": "code",
   "execution_count": 1,
   "id": "745c562b-8aa4-404b-86c3-8312fc1ce359",
   "metadata": {},
   "outputs": [],
   "source": [
    "# Python assignment "
   ]
  },
  {
   "cell_type": "code",
   "execution_count": null,
   "id": "1fa32ac2-01b4-4e58-bd6b-afbe3ef9b53d",
   "metadata": {},
   "outputs": [],
   "source": [
    "#Exercise1: Prime numbers"
   ]
  },
  {
   "cell_type": "code",
   "execution_count": 11,
   "id": "88784453-5b6a-47bf-8b58-7890ffa99d94",
   "metadata": {},
   "outputs": [
    {
     "name": "stdin",
     "output_type": "stream",
     "text": [
      "Enter your number:  53\n"
     ]
    },
    {
     "name": "stdout",
     "output_type": "stream",
     "text": [
      "The number 53 is a prime\n"
     ]
    }
   ],
   "source": [
    "num=int(input('Enter your number: '))\n",
    "count=0\n",
    "for i in range(1,num+1):\n",
    "    if num%i==0:\n",
    "        count+=1\n",
    "if count==2:\n",
    "    print(f'The number {num} is a prime')\n",
    "else:\n",
    "    print(f'The number {num} is not a prime')\n",
    "    "
   ]
  },
  {
   "cell_type": "code",
   "execution_count": null,
   "id": "c3c8b638-b474-4d3e-af93-b804c4d629ad",
   "metadata": {},
   "outputs": [],
   "source": [
    "#Exercise 2:Random numbers\n",
    "#we import the random function for this exercise"
   ]
  },
  {
   "cell_type": "code",
   "execution_count": 19,
   "id": "379ca3b0-39af-46dd-863e-97d9f7ccb4fc",
   "metadata": {},
   "outputs": [
    {
     "name": "stdin",
     "output_type": "stream",
     "text": [
      "what is the product of 44 and 21:  924\n"
     ]
    },
    {
     "name": "stdout",
     "output_type": "stream",
     "text": [
      "Good job!! 924 is the right answer.\n"
     ]
    }
   ],
   "source": [
    "import random as rd\n",
    "x=rd.randint(1,100)\n",
    "y=rd.randint(1,100)\n",
    "prod=int(input(f'what is the product of {x} and {y}: '))\n",
    "if prod==x*y:\n",
    "    print(f'Good job!! {prod} is the right answer.')\n",
    "else:\n",
    "    print(f'Sorry {prod} is the wrong answer. The correct answer is {x*y}')"
   ]
  },
  {
   "cell_type": "code",
   "execution_count": null,
   "id": "81b6fd0f-8f68-46c5-aa0e-41cc11d034ea",
   "metadata": {},
   "outputs": [],
   "source": [
    "#Exercise 3: Printing the square of even numbers in the range of 100 to 200"
   ]
  },
  {
   "cell_type": "code",
   "execution_count": 40,
   "id": "370814e2-b51a-46f9-8d31-d29ee0a3b092",
   "metadata": {},
   "outputs": [
    {
     "name": "stdout",
     "output_type": "stream",
     "text": [
      "10000\n",
      "10404\n",
      "10816\n",
      "11236\n",
      "11664\n",
      "12100\n",
      "12544\n",
      "12996\n",
      "13456\n",
      "13924\n",
      "14400\n",
      "14884\n",
      "15376\n",
      "15876\n",
      "16384\n",
      "16900\n",
      "17424\n",
      "17956\n",
      "18496\n",
      "19044\n",
      "19600\n",
      "20164\n",
      "20736\n",
      "21316\n",
      "21904\n",
      "22500\n",
      "23104\n",
      "23716\n",
      "24336\n",
      "24964\n",
      "25600\n",
      "26244\n",
      "26896\n",
      "27556\n",
      "28224\n",
      "28900\n",
      "29584\n",
      "30276\n",
      "30976\n",
      "31684\n",
      "32400\n",
      "33124\n",
      "33856\n",
      "34596\n",
      "35344\n",
      "36100\n",
      "36864\n",
      "37636\n",
      "38416\n",
      "39204\n",
      "40000\n"
     ]
    }
   ],
   "source": [
    "for i in range(100,201):\n",
    "    if i%2==0:\n",
    "        print(i*i)"
   ]
  },
  {
   "cell_type": "code",
   "execution_count": null,
   "id": "e5dac287-7154-435d-b23d-3958fabaf4cc",
   "metadata": {},
   "outputs": [],
   "source": [
    "# Exercise 4:Word counter\n",
    "# we are going to use the set function for this which helps in getting all the unique words in a string\n",
    "# split function is used to split the sentence into an list of words separated by ' '"
   ]
  },
  {
   "cell_type": "code",
   "execution_count": 39,
   "id": "ea9f6b93-d2fa-462e-83fa-6c5db0e04ec7",
   "metadata": {},
   "outputs": [
    {
     "name": "stdin",
     "output_type": "stream",
     "text": [
      "enter your message i love eating apples . John love eating apples\n"
     ]
    },
    {
     "name": "stdout",
     "output_type": "stream",
     "text": [
      "'.':1\n",
      "'love':2\n",
      "'eating':2\n",
      "'apples':2\n",
      "'i':1\n",
      "'John':1\n"
     ]
    }
   ],
   "source": [
    "msg=input('enter your message')\n",
    "words=msg.split()\n",
    "unique=set(words)\n",
    "for i in unique:\n",
    "    print(f\"'{i}':{words.count(i)}\")"
   ]
  },
  {
   "cell_type": "code",
   "execution_count": null,
   "id": "6528e8d1-c536-43e1-a69f-5ec0495e2014",
   "metadata": {},
   "outputs": [],
   "source": [
    "# Exercise 5:Palindrome function\n",
    "# In this exercise we made use of string slicing method to match the string with the reverse of the string\n",
    "# replace method is used in order to remove whitespaces"
   ]
  },
  {
   "cell_type": "code",
   "execution_count": 38,
   "id": "675a8ba7-99b7-4cb3-b412-0f153ce5c189",
   "metadata": {},
   "outputs": [
    {
     "name": "stdin",
     "output_type": "stream",
     "text": [
      "Enter your word to check for palindrome: Racecar\n"
     ]
    },
    {
     "name": "stdout",
     "output_type": "stream",
     "text": [
      "True\n"
     ]
    }
   ],
   "source": [
    "mystr=input('Enter your word to check for palindrome:')\n",
    "mystr=mystr.lower()\n",
    "mystr=mystr.replace(' ','')\n",
    "\n",
    "def isPalindrome():\n",
    "    if mystr==mystr[-1::-1]:\n",
    "        return True\n",
    "    else:\n",
    "        return False\n",
    "\n",
    "\n",
    "print(isPalindrome())"
   ]
  },
  {
   "cell_type": "code",
   "execution_count": null,
   "id": "75c7df30-73b8-4324-b6c3-17ead962759b",
   "metadata": {},
   "outputs": [],
   "source": [
    "# END"
   ]
  }
 ],
 "metadata": {
  "kernelspec": {
   "display_name": "Python 3 (ipykernel)",
   "language": "python",
   "name": "python3"
  },
  "language_info": {
   "codemirror_mode": {
    "name": "ipython",
    "version": 3
   },
   "file_extension": ".py",
   "mimetype": "text/x-python",
   "name": "python",
   "nbconvert_exporter": "python",
   "pygments_lexer": "ipython3",
   "version": "3.11.7"
  }
 },
 "nbformat": 4,
 "nbformat_minor": 5
}
