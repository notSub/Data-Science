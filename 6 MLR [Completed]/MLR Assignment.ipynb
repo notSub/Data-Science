{
 "cells": [
  {
   "cell_type": "code",
   "execution_count": 175,
   "id": "341912ff-e03c-4b5e-a452-eee0dd9ec2d3",
   "metadata": {},
   "outputs": [],
   "source": [
    "# MULTIPLE LINEAR REGRESSION"
   ]
  },
  {
   "cell_type": "code",
   "execution_count": 176,
   "id": "2dbdc357-edd8-4c9a-9056-f327d2048545",
   "metadata": {},
   "outputs": [],
   "source": [
    "#importing all the necessary libraries\n",
    "import pandas as pd\n",
    "import numpy as np\n",
    "import matplotlib.pyplot as plt\n",
    "import seaborn as sns\n",
    "%matplotlib inline"
   ]
  },
  {
   "cell_type": "code",
   "execution_count": 177,
   "id": "43c0da4e-9c17-4e89-a306-5bc9f99822f5",
   "metadata": {},
   "outputs": [
    {
     "data": {
      "text/plain": [
       "(1436, 11)"
      ]
     },
     "execution_count": 177,
     "metadata": {},
     "output_type": "execute_result"
    }
   ],
   "source": [
    "# Read the csv file\n",
    "# Finding shape of the file \n",
    "df=pd.read_csv('ToyotaCorolla - MLR.csv')\n",
    "df.shape"
   ]
  },
  {
   "cell_type": "code",
   "execution_count": 178,
   "id": "5c9ef7e4-79c0-4e70-89a8-551a16805cc0",
   "metadata": {},
   "outputs": [
    {
     "data": {
      "text/html": [
       "<div>\n",
       "<style scoped>\n",
       "    .dataframe tbody tr th:only-of-type {\n",
       "        vertical-align: middle;\n",
       "    }\n",
       "\n",
       "    .dataframe tbody tr th {\n",
       "        vertical-align: top;\n",
       "    }\n",
       "\n",
       "    .dataframe thead th {\n",
       "        text-align: right;\n",
       "    }\n",
       "</style>\n",
       "<table border=\"1\" class=\"dataframe\">\n",
       "  <thead>\n",
       "    <tr style=\"text-align: right;\">\n",
       "      <th></th>\n",
       "      <th>Price</th>\n",
       "      <th>Age_08_04</th>\n",
       "      <th>KM</th>\n",
       "      <th>Fuel_Type</th>\n",
       "      <th>HP</th>\n",
       "      <th>Automatic</th>\n",
       "      <th>cc</th>\n",
       "      <th>Doors</th>\n",
       "      <th>Cylinders</th>\n",
       "      <th>Gears</th>\n",
       "      <th>Weight</th>\n",
       "    </tr>\n",
       "  </thead>\n",
       "  <tbody>\n",
       "    <tr>\n",
       "      <th>0</th>\n",
       "      <td>13500</td>\n",
       "      <td>23</td>\n",
       "      <td>46986</td>\n",
       "      <td>Diesel</td>\n",
       "      <td>90</td>\n",
       "      <td>0</td>\n",
       "      <td>2000</td>\n",
       "      <td>3</td>\n",
       "      <td>4</td>\n",
       "      <td>5</td>\n",
       "      <td>1165</td>\n",
       "    </tr>\n",
       "    <tr>\n",
       "      <th>1</th>\n",
       "      <td>13750</td>\n",
       "      <td>23</td>\n",
       "      <td>72937</td>\n",
       "      <td>Diesel</td>\n",
       "      <td>90</td>\n",
       "      <td>0</td>\n",
       "      <td>2000</td>\n",
       "      <td>3</td>\n",
       "      <td>4</td>\n",
       "      <td>5</td>\n",
       "      <td>1165</td>\n",
       "    </tr>\n",
       "    <tr>\n",
       "      <th>2</th>\n",
       "      <td>13950</td>\n",
       "      <td>24</td>\n",
       "      <td>41711</td>\n",
       "      <td>Diesel</td>\n",
       "      <td>90</td>\n",
       "      <td>0</td>\n",
       "      <td>2000</td>\n",
       "      <td>3</td>\n",
       "      <td>4</td>\n",
       "      <td>5</td>\n",
       "      <td>1165</td>\n",
       "    </tr>\n",
       "    <tr>\n",
       "      <th>3</th>\n",
       "      <td>14950</td>\n",
       "      <td>26</td>\n",
       "      <td>48000</td>\n",
       "      <td>Diesel</td>\n",
       "      <td>90</td>\n",
       "      <td>0</td>\n",
       "      <td>2000</td>\n",
       "      <td>3</td>\n",
       "      <td>4</td>\n",
       "      <td>5</td>\n",
       "      <td>1165</td>\n",
       "    </tr>\n",
       "    <tr>\n",
       "      <th>4</th>\n",
       "      <td>13750</td>\n",
       "      <td>30</td>\n",
       "      <td>38500</td>\n",
       "      <td>Diesel</td>\n",
       "      <td>90</td>\n",
       "      <td>0</td>\n",
       "      <td>2000</td>\n",
       "      <td>3</td>\n",
       "      <td>4</td>\n",
       "      <td>5</td>\n",
       "      <td>1170</td>\n",
       "    </tr>\n",
       "  </tbody>\n",
       "</table>\n",
       "</div>"
      ],
      "text/plain": [
       "   Price  Age_08_04     KM Fuel_Type  HP  Automatic    cc  Doors  Cylinders  \\\n",
       "0  13500         23  46986    Diesel  90          0  2000      3          4   \n",
       "1  13750         23  72937    Diesel  90          0  2000      3          4   \n",
       "2  13950         24  41711    Diesel  90          0  2000      3          4   \n",
       "3  14950         26  48000    Diesel  90          0  2000      3          4   \n",
       "4  13750         30  38500    Diesel  90          0  2000      3          4   \n",
       "\n",
       "   Gears  Weight  \n",
       "0      5    1165  \n",
       "1      5    1165  \n",
       "2      5    1165  \n",
       "3      5    1165  \n",
       "4      5    1170  "
      ]
     },
     "execution_count": 178,
     "metadata": {},
     "output_type": "execute_result"
    }
   ],
   "source": [
    "# Sample of the dataframe\n",
    "df.head(5)"
   ]
  },
  {
   "cell_type": "code",
   "execution_count": 179,
   "id": "c230304b-c5d0-4c78-a04f-a4b84fd2e035",
   "metadata": {},
   "outputs": [
    {
     "name": "stdout",
     "output_type": "stream",
     "text": [
      "<class 'pandas.core.frame.DataFrame'>\n",
      "RangeIndex: 1436 entries, 0 to 1435\n",
      "Data columns (total 11 columns):\n",
      " #   Column     Non-Null Count  Dtype \n",
      "---  ------     --------------  ----- \n",
      " 0   Price      1436 non-null   int64 \n",
      " 1   Age_08_04  1436 non-null   int64 \n",
      " 2   KM         1436 non-null   int64 \n",
      " 3   Fuel_Type  1436 non-null   object\n",
      " 4   HP         1436 non-null   int64 \n",
      " 5   Automatic  1436 non-null   int64 \n",
      " 6   cc         1436 non-null   int64 \n",
      " 7   Doors      1436 non-null   int64 \n",
      " 8   Cylinders  1436 non-null   int64 \n",
      " 9   Gears      1436 non-null   int64 \n",
      " 10  Weight     1436 non-null   int64 \n",
      "dtypes: int64(10), object(1)\n",
      "memory usage: 123.5+ KB\n"
     ]
    }
   ],
   "source": [
    "# There are no missing values hence no need of cleaning\n",
    "# All datatypes are consistent except Fuel_Type variable.We use one hot encoding to make it suitable to feed the mlr model\n",
    "df.info()"
   ]
  },
  {
   "cell_type": "code",
   "execution_count": 180,
   "id": "372b5d6c-1a35-4afe-9d0a-7642a8a0331e",
   "metadata": {},
   "outputs": [
    {
     "data": {
      "text/html": [
       "<div>\n",
       "<style scoped>\n",
       "    .dataframe tbody tr th:only-of-type {\n",
       "        vertical-align: middle;\n",
       "    }\n",
       "\n",
       "    .dataframe tbody tr th {\n",
       "        vertical-align: top;\n",
       "    }\n",
       "\n",
       "    .dataframe thead th {\n",
       "        text-align: right;\n",
       "    }\n",
       "</style>\n",
       "<table border=\"1\" class=\"dataframe\">\n",
       "  <thead>\n",
       "    <tr style=\"text-align: right;\">\n",
       "      <th></th>\n",
       "      <th>Price</th>\n",
       "      <th>Age_08_04</th>\n",
       "      <th>KM</th>\n",
       "      <th>HP</th>\n",
       "      <th>Automatic</th>\n",
       "      <th>cc</th>\n",
       "      <th>Doors</th>\n",
       "      <th>Cylinders</th>\n",
       "      <th>Gears</th>\n",
       "      <th>Weight</th>\n",
       "    </tr>\n",
       "  </thead>\n",
       "  <tbody>\n",
       "    <tr>\n",
       "      <th>count</th>\n",
       "      <td>1436.000000</td>\n",
       "      <td>1436.000000</td>\n",
       "      <td>1436.000000</td>\n",
       "      <td>1436.000000</td>\n",
       "      <td>1436.000000</td>\n",
       "      <td>1436.00000</td>\n",
       "      <td>1436.000000</td>\n",
       "      <td>1436.0</td>\n",
       "      <td>1436.000000</td>\n",
       "      <td>1436.00000</td>\n",
       "    </tr>\n",
       "    <tr>\n",
       "      <th>mean</th>\n",
       "      <td>10730.824513</td>\n",
       "      <td>55.947075</td>\n",
       "      <td>68533.259749</td>\n",
       "      <td>101.502089</td>\n",
       "      <td>0.055710</td>\n",
       "      <td>1576.85585</td>\n",
       "      <td>4.033426</td>\n",
       "      <td>4.0</td>\n",
       "      <td>5.026462</td>\n",
       "      <td>1072.45961</td>\n",
       "    </tr>\n",
       "    <tr>\n",
       "      <th>std</th>\n",
       "      <td>3626.964585</td>\n",
       "      <td>18.599988</td>\n",
       "      <td>37506.448872</td>\n",
       "      <td>14.981080</td>\n",
       "      <td>0.229441</td>\n",
       "      <td>424.38677</td>\n",
       "      <td>0.952677</td>\n",
       "      <td>0.0</td>\n",
       "      <td>0.188510</td>\n",
       "      <td>52.64112</td>\n",
       "    </tr>\n",
       "    <tr>\n",
       "      <th>min</th>\n",
       "      <td>4350.000000</td>\n",
       "      <td>1.000000</td>\n",
       "      <td>1.000000</td>\n",
       "      <td>69.000000</td>\n",
       "      <td>0.000000</td>\n",
       "      <td>1300.00000</td>\n",
       "      <td>2.000000</td>\n",
       "      <td>4.0</td>\n",
       "      <td>3.000000</td>\n",
       "      <td>1000.00000</td>\n",
       "    </tr>\n",
       "    <tr>\n",
       "      <th>25%</th>\n",
       "      <td>8450.000000</td>\n",
       "      <td>44.000000</td>\n",
       "      <td>43000.000000</td>\n",
       "      <td>90.000000</td>\n",
       "      <td>0.000000</td>\n",
       "      <td>1400.00000</td>\n",
       "      <td>3.000000</td>\n",
       "      <td>4.0</td>\n",
       "      <td>5.000000</td>\n",
       "      <td>1040.00000</td>\n",
       "    </tr>\n",
       "    <tr>\n",
       "      <th>50%</th>\n",
       "      <td>9900.000000</td>\n",
       "      <td>61.000000</td>\n",
       "      <td>63389.500000</td>\n",
       "      <td>110.000000</td>\n",
       "      <td>0.000000</td>\n",
       "      <td>1600.00000</td>\n",
       "      <td>4.000000</td>\n",
       "      <td>4.0</td>\n",
       "      <td>5.000000</td>\n",
       "      <td>1070.00000</td>\n",
       "    </tr>\n",
       "    <tr>\n",
       "      <th>75%</th>\n",
       "      <td>11950.000000</td>\n",
       "      <td>70.000000</td>\n",
       "      <td>87020.750000</td>\n",
       "      <td>110.000000</td>\n",
       "      <td>0.000000</td>\n",
       "      <td>1600.00000</td>\n",
       "      <td>5.000000</td>\n",
       "      <td>4.0</td>\n",
       "      <td>5.000000</td>\n",
       "      <td>1085.00000</td>\n",
       "    </tr>\n",
       "    <tr>\n",
       "      <th>max</th>\n",
       "      <td>32500.000000</td>\n",
       "      <td>80.000000</td>\n",
       "      <td>243000.000000</td>\n",
       "      <td>192.000000</td>\n",
       "      <td>1.000000</td>\n",
       "      <td>16000.00000</td>\n",
       "      <td>5.000000</td>\n",
       "      <td>4.0</td>\n",
       "      <td>6.000000</td>\n",
       "      <td>1615.00000</td>\n",
       "    </tr>\n",
       "  </tbody>\n",
       "</table>\n",
       "</div>"
      ],
      "text/plain": [
       "              Price    Age_08_04             KM           HP    Automatic  \\\n",
       "count   1436.000000  1436.000000    1436.000000  1436.000000  1436.000000   \n",
       "mean   10730.824513    55.947075   68533.259749   101.502089     0.055710   \n",
       "std     3626.964585    18.599988   37506.448872    14.981080     0.229441   \n",
       "min     4350.000000     1.000000       1.000000    69.000000     0.000000   \n",
       "25%     8450.000000    44.000000   43000.000000    90.000000     0.000000   \n",
       "50%     9900.000000    61.000000   63389.500000   110.000000     0.000000   \n",
       "75%    11950.000000    70.000000   87020.750000   110.000000     0.000000   \n",
       "max    32500.000000    80.000000  243000.000000   192.000000     1.000000   \n",
       "\n",
       "                cc        Doors  Cylinders        Gears      Weight  \n",
       "count   1436.00000  1436.000000     1436.0  1436.000000  1436.00000  \n",
       "mean    1576.85585     4.033426        4.0     5.026462  1072.45961  \n",
       "std      424.38677     0.952677        0.0     0.188510    52.64112  \n",
       "min     1300.00000     2.000000        4.0     3.000000  1000.00000  \n",
       "25%     1400.00000     3.000000        4.0     5.000000  1040.00000  \n",
       "50%     1600.00000     4.000000        4.0     5.000000  1070.00000  \n",
       "75%     1600.00000     5.000000        4.0     5.000000  1085.00000  \n",
       "max    16000.00000     5.000000        4.0     6.000000  1615.00000  "
      ]
     },
     "execution_count": 180,
     "metadata": {},
     "output_type": "execute_result"
    }
   ],
   "source": [
    "df.describe()"
   ]
  },
  {
   "cell_type": "code",
   "execution_count": 181,
   "id": "f251ca19-adbe-4e01-9920-c264cf5e21e8",
   "metadata": {},
   "outputs": [
    {
     "data": {
      "text/plain": [
       "array([4], dtype=int64)"
      ]
     },
     "execution_count": 181,
     "metadata": {},
     "output_type": "execute_result"
    }
   ],
   "source": [
    "# Checking the cylinder variable for different unique values\n",
    "uniquecyl=df['Cylinders'].unique()\n",
    "uniquecyl"
   ]
  },
  {
   "cell_type": "code",
   "execution_count": 182,
   "id": "4c2adf7c-4f4e-4a19-b3ec-ee017efbfec2",
   "metadata": {},
   "outputs": [],
   "source": [
    "#We can drop the column Cylinders since all cars have 4 cylinders\n",
    "df=df.drop(['Cylinders'],axis='columns')"
   ]
  },
  {
   "cell_type": "code",
   "execution_count": 183,
   "id": "27446a78-c19e-40ad-a0a4-a6c09a6b7f47",
   "metadata": {},
   "outputs": [
    {
     "data": {
      "text/html": [
       "<div>\n",
       "<style scoped>\n",
       "    .dataframe tbody tr th:only-of-type {\n",
       "        vertical-align: middle;\n",
       "    }\n",
       "\n",
       "    .dataframe tbody tr th {\n",
       "        vertical-align: top;\n",
       "    }\n",
       "\n",
       "    .dataframe thead th {\n",
       "        text-align: right;\n",
       "    }\n",
       "</style>\n",
       "<table border=\"1\" class=\"dataframe\">\n",
       "  <thead>\n",
       "    <tr style=\"text-align: right;\">\n",
       "      <th></th>\n",
       "      <th>CNG</th>\n",
       "      <th>Diesel</th>\n",
       "      <th>Petrol</th>\n",
       "    </tr>\n",
       "  </thead>\n",
       "  <tbody>\n",
       "    <tr>\n",
       "      <th>0</th>\n",
       "      <td>0</td>\n",
       "      <td>1</td>\n",
       "      <td>0</td>\n",
       "    </tr>\n",
       "    <tr>\n",
       "      <th>1</th>\n",
       "      <td>0</td>\n",
       "      <td>1</td>\n",
       "      <td>0</td>\n",
       "    </tr>\n",
       "    <tr>\n",
       "      <th>2</th>\n",
       "      <td>0</td>\n",
       "      <td>1</td>\n",
       "      <td>0</td>\n",
       "    </tr>\n",
       "    <tr>\n",
       "      <th>3</th>\n",
       "      <td>0</td>\n",
       "      <td>1</td>\n",
       "      <td>0</td>\n",
       "    </tr>\n",
       "    <tr>\n",
       "      <th>4</th>\n",
       "      <td>0</td>\n",
       "      <td>1</td>\n",
       "      <td>0</td>\n",
       "    </tr>\n",
       "    <tr>\n",
       "      <th>...</th>\n",
       "      <td>...</td>\n",
       "      <td>...</td>\n",
       "      <td>...</td>\n",
       "    </tr>\n",
       "    <tr>\n",
       "      <th>1431</th>\n",
       "      <td>0</td>\n",
       "      <td>0</td>\n",
       "      <td>1</td>\n",
       "    </tr>\n",
       "    <tr>\n",
       "      <th>1432</th>\n",
       "      <td>0</td>\n",
       "      <td>0</td>\n",
       "      <td>1</td>\n",
       "    </tr>\n",
       "    <tr>\n",
       "      <th>1433</th>\n",
       "      <td>0</td>\n",
       "      <td>0</td>\n",
       "      <td>1</td>\n",
       "    </tr>\n",
       "    <tr>\n",
       "      <th>1434</th>\n",
       "      <td>0</td>\n",
       "      <td>0</td>\n",
       "      <td>1</td>\n",
       "    </tr>\n",
       "    <tr>\n",
       "      <th>1435</th>\n",
       "      <td>0</td>\n",
       "      <td>0</td>\n",
       "      <td>1</td>\n",
       "    </tr>\n",
       "  </tbody>\n",
       "</table>\n",
       "<p>1436 rows × 3 columns</p>\n",
       "</div>"
      ],
      "text/plain": [
       "      CNG  Diesel  Petrol\n",
       "0       0       1       0\n",
       "1       0       1       0\n",
       "2       0       1       0\n",
       "3       0       1       0\n",
       "4       0       1       0\n",
       "...   ...     ...     ...\n",
       "1431    0       0       1\n",
       "1432    0       0       1\n",
       "1433    0       0       1\n",
       "1434    0       0       1\n",
       "1435    0       0       1\n",
       "\n",
       "[1436 rows x 3 columns]"
      ]
     },
     "execution_count": 183,
     "metadata": {},
     "output_type": "execute_result"
    }
   ],
   "source": [
    "# Performing one hot encoding on the Fuel_Type variable using get_dummies method\n",
    "ohe=pd.get_dummies(df['Fuel_Type'],dtype=int)\n",
    "ohe"
   ]
  },
  {
   "cell_type": "code",
   "execution_count": 184,
   "id": "02b3f572-5bcf-417a-b42a-2763828adddf",
   "metadata": {},
   "outputs": [],
   "source": [
    "df2=pd.concat([df,ohe],axis='columns')"
   ]
  },
  {
   "cell_type": "code",
   "execution_count": 185,
   "id": "f97db734-517a-4c76-9a25-68d09215ff8f",
   "metadata": {},
   "outputs": [],
   "source": [
    "df2=df2.drop(['Fuel_Type'],axis='columns')"
   ]
  },
  {
   "cell_type": "code",
   "execution_count": 186,
   "id": "eedf3ab2-52c3-45c7-9c75-c82cc2b9bcba",
   "metadata": {},
   "outputs": [
    {
     "data": {
      "text/html": [
       "<div>\n",
       "<style scoped>\n",
       "    .dataframe tbody tr th:only-of-type {\n",
       "        vertical-align: middle;\n",
       "    }\n",
       "\n",
       "    .dataframe tbody tr th {\n",
       "        vertical-align: top;\n",
       "    }\n",
       "\n",
       "    .dataframe thead th {\n",
       "        text-align: right;\n",
       "    }\n",
       "</style>\n",
       "<table border=\"1\" class=\"dataframe\">\n",
       "  <thead>\n",
       "    <tr style=\"text-align: right;\">\n",
       "      <th></th>\n",
       "      <th>Price</th>\n",
       "      <th>Age_08_04</th>\n",
       "      <th>KM</th>\n",
       "      <th>HP</th>\n",
       "      <th>Automatic</th>\n",
       "      <th>cc</th>\n",
       "      <th>Doors</th>\n",
       "      <th>Gears</th>\n",
       "      <th>Weight</th>\n",
       "      <th>CNG</th>\n",
       "      <th>Diesel</th>\n",
       "      <th>Petrol</th>\n",
       "    </tr>\n",
       "  </thead>\n",
       "  <tbody>\n",
       "    <tr>\n",
       "      <th>0</th>\n",
       "      <td>13500</td>\n",
       "      <td>23</td>\n",
       "      <td>46986</td>\n",
       "      <td>90</td>\n",
       "      <td>0</td>\n",
       "      <td>2000</td>\n",
       "      <td>3</td>\n",
       "      <td>5</td>\n",
       "      <td>1165</td>\n",
       "      <td>0</td>\n",
       "      <td>1</td>\n",
       "      <td>0</td>\n",
       "    </tr>\n",
       "    <tr>\n",
       "      <th>1</th>\n",
       "      <td>13750</td>\n",
       "      <td>23</td>\n",
       "      <td>72937</td>\n",
       "      <td>90</td>\n",
       "      <td>0</td>\n",
       "      <td>2000</td>\n",
       "      <td>3</td>\n",
       "      <td>5</td>\n",
       "      <td>1165</td>\n",
       "      <td>0</td>\n",
       "      <td>1</td>\n",
       "      <td>0</td>\n",
       "    </tr>\n",
       "    <tr>\n",
       "      <th>2</th>\n",
       "      <td>13950</td>\n",
       "      <td>24</td>\n",
       "      <td>41711</td>\n",
       "      <td>90</td>\n",
       "      <td>0</td>\n",
       "      <td>2000</td>\n",
       "      <td>3</td>\n",
       "      <td>5</td>\n",
       "      <td>1165</td>\n",
       "      <td>0</td>\n",
       "      <td>1</td>\n",
       "      <td>0</td>\n",
       "    </tr>\n",
       "    <tr>\n",
       "      <th>3</th>\n",
       "      <td>14950</td>\n",
       "      <td>26</td>\n",
       "      <td>48000</td>\n",
       "      <td>90</td>\n",
       "      <td>0</td>\n",
       "      <td>2000</td>\n",
       "      <td>3</td>\n",
       "      <td>5</td>\n",
       "      <td>1165</td>\n",
       "      <td>0</td>\n",
       "      <td>1</td>\n",
       "      <td>0</td>\n",
       "    </tr>\n",
       "    <tr>\n",
       "      <th>4</th>\n",
       "      <td>13750</td>\n",
       "      <td>30</td>\n",
       "      <td>38500</td>\n",
       "      <td>90</td>\n",
       "      <td>0</td>\n",
       "      <td>2000</td>\n",
       "      <td>3</td>\n",
       "      <td>5</td>\n",
       "      <td>1170</td>\n",
       "      <td>0</td>\n",
       "      <td>1</td>\n",
       "      <td>0</td>\n",
       "    </tr>\n",
       "  </tbody>\n",
       "</table>\n",
       "</div>"
      ],
      "text/plain": [
       "   Price  Age_08_04     KM  HP  Automatic    cc  Doors  Gears  Weight  CNG  \\\n",
       "0  13500         23  46986  90          0  2000      3      5    1165    0   \n",
       "1  13750         23  72937  90          0  2000      3      5    1165    0   \n",
       "2  13950         24  41711  90          0  2000      3      5    1165    0   \n",
       "3  14950         26  48000  90          0  2000      3      5    1165    0   \n",
       "4  13750         30  38500  90          0  2000      3      5    1170    0   \n",
       "\n",
       "   Diesel  Petrol  \n",
       "0       1       0  \n",
       "1       1       0  \n",
       "2       1       0  \n",
       "3       1       0  \n",
       "4       1       0  "
      ]
     },
     "execution_count": 186,
     "metadata": {},
     "output_type": "execute_result"
    }
   ],
   "source": [
    "df2.head()"
   ]
  },
  {
   "cell_type": "code",
   "execution_count": 187,
   "id": "a994f191-43a5-4b52-b215-49fa43cf548c",
   "metadata": {},
   "outputs": [],
   "source": [
    "# Data Visualization"
   ]
  },
  {
   "cell_type": "code",
   "execution_count": 188,
   "id": "4e1cff63-ffe3-44fa-b486-a67f260cca94",
   "metadata": {},
   "outputs": [
    {
     "data": {
      "text/plain": [
       "<matplotlib.collections.PathCollection at 0x1c3e177ee90>"
      ]
     },
     "execution_count": 188,
     "metadata": {},
     "output_type": "execute_result"
    },
    {
     "data": {
      "image/png": "[encoded data removed]",
      "text/plain": [
       "<Figure size 640x480 with 1 Axes>"
      ]
     },
     "metadata": {},
     "output_type": "display_data"
    }
   ],
   "source": [
    "# Price vs Age\n",
    "plt.xlabel('Age of Car')\n",
    "plt.ylabel('Price(US$)')\n",
    "plt.scatter(df.Age_08_04,df.Price, color='red')"
   ]
  },
  {
   "cell_type": "code",
   "execution_count": 189,
   "id": "612195a1-9c3a-4c2d-96da-adb4e9d24d06",
   "metadata": {},
   "outputs": [
    {
     "data": {
      "text/plain": [
       "<matplotlib.collections.PathCollection at 0x1c3e183ba50>"
      ]
     },
     "execution_count": 189,
     "metadata": {},
     "output_type": "execute_result"
    },
    {
     "data": {
      "image/png": "[encoded data removed]",
      "text/plain": [
       "<Figure size 640x480 with 1 Axes>"
      ]
     },
     "metadata": {},
     "output_type": "display_data"
    }
   ],
   "source": [
    "# Price vs KM\n",
    "plt.xlabel('KMs Done')\n",
    "plt.ylabel('Price(US$)')\n",
    "plt.scatter(df.KM,df.Price, color='red')"
   ]
  },
  {
   "cell_type": "code",
   "execution_count": 190,
   "id": "50e41c4b-e775-426e-a24c-df823564bde7",
   "metadata": {},
   "outputs": [
    {
     "data": {
      "text/plain": [
       "<matplotlib.collections.PathCollection at 0x1c3e16b8e10>"
      ]
     },
     "execution_count": 190,
     "metadata": {},
     "output_type": "execute_result"
    },
    {
     "data": {
      "image/png": "[encoded data removed]",
      "text/plain": [
       "<Figure size 640x480 with 1 Axes>"
      ]
     },
     "metadata": {},
     "output_type": "display_data"
    }
   ],
   "source": [
    "# Price vs Transmission\n",
    "plt.xlabel('Transmission')\n",
    "plt.ylabel('Price(US$)')\n",
    "plt.scatter(df.Automatic,df.Price, color='red')"
   ]
  },
  {
   "cell_type": "code",
   "execution_count": 191,
   "id": "de0a2c3c-6cae-46cb-9f3c-0c9568bade02",
   "metadata": {},
   "outputs": [
    {
     "data": {
      "text/plain": [
       "<Axes: >"
      ]
     },
     "execution_count": 191,
     "metadata": {},
     "output_type": "execute_result"
    },
    {
     "data": {
      "image/png": "[encoded data removed]",
      "text/plain": [
       "<Figure size 640x480 with 2 Axes>"
      ]
     },
     "metadata": {},
     "output_type": "display_data"
    }
   ],
   "source": [
    "# Builing Correlation Matrix\n",
    "# Finding Correlation between different dependent and independent variables\n",
    "sns.heatmap(df2.corr())"
   ]
  },
  {
   "cell_type": "code",
   "execution_count": 192,
   "id": "848b6107-ac08-427d-ba0b-8e2194de23ea",
   "metadata": {},
   "outputs": [],
   "source": [
    "# Building the model"
   ]
  },
  {
   "cell_type": "code",
   "execution_count": 193,
   "id": "7b31f4ca-55fb-44bd-82f7-40eb7b63db3f",
   "metadata": {},
   "outputs": [],
   "source": [
    "X=df2[['Age_08_04','KM','HP', 'Automatic' ,'cc' ,'Doors','Gears','Weight','CNG','Diesel', 'Petrol']]\n",
    "y=df2['Price']"
   ]
  },
  {
   "cell_type": "code",
   "execution_count": 194,
   "id": "56cb7e17-a45a-43b0-9e72-3d8ad6226aca",
   "metadata": {},
   "outputs": [],
   "source": [
    "# Model 1\n",
    "# Splitting the dataset into the Training set and Test set using 80:20 split\n",
    "from sklearn.model_selection import train_test_split\n",
    "X_train, X_test, y_train, y_test = train_test_split(X, y, test_size = 0.2,random_state=42)"
   ]
  },
  {
   "cell_type": "code",
   "execution_count": 195,
   "id": "eb84a36b-bafe-4c51-8e79-65e98f7d193f",
   "metadata": {},
   "outputs": [
    {
     "data": {
      "text/html": [
       "<style>#sk-container-id-15 {color: black;background-color: white;}#sk-container-id-15 pre{padding: 0;}#sk-container-id-15 div.sk-toggleable {background-color: white;}#sk-container-id-15 label.sk-toggleable__label {cursor: pointer;display: block;width: 100%;margin-bottom: 0;padding: 0.3em;box-sizing: border-box;text-align: center;}#sk-container-id-15 label.sk-toggleable__label-arrow:before {content: \"▸\";float: left;margin-right: 0.25em;color: #696969;}#sk-container-id-15 label.sk-toggleable__label-arrow:hover:before {color: black;}#sk-container-id-15 div.sk-estimator:hover label.sk-toggleable__label-arrow:before {color: black;}#sk-container-id-15 div.sk-toggleable__content {max-height: 0;max-width: 0;overflow: hidden;text-align: left;background-color: #f0f8ff;}#sk-container-id-15 div.sk-toggleable__content pre {margin: 0.2em;color: black;border-radius: 0.25em;background-color: #f0f8ff;}#sk-container-id-15 input.sk-toggleable__control:checked~div.sk-toggleable__content {max-height: 200px;max-width: 100%;overflow: auto;}#sk-container-id-15 input.sk-toggleable__control:checked~label.sk-toggleable__label-arrow:before {content: \"▾\";}#sk-container-id-15 div.sk-estimator input.sk-toggleable__control:checked~label.sk-toggleable__label {background-color: #d4ebff;}#sk-container-id-15 div.sk-label input.sk-toggleable__control:checked~label.sk-toggleable__label {background-color: #d4ebff;}#sk-container-id-15 input.sk-hidden--visually {border: 0;clip: rect(1px 1px 1px 1px);clip: rect(1px, 1px, 1px, 1px);height: 1px;margin: -1px;overflow: hidden;padding: 0;position: absolute;width: 1px;}#sk-container-id-15 div.sk-estimator {font-family: monospace;background-color: #f0f8ff;border: 1px dotted black;border-radius: 0.25em;box-sizing: border-box;margin-bottom: 0.5em;}#sk-container-id-15 div.sk-estimator:hover {background-color: #d4ebff;}#sk-container-id-15 div.sk-parallel-item::after {content: \"\";width: 100%;border-bottom: 1px solid gray;flex-grow: 1;}#sk-container-id-15 div.sk-label:hover label.sk-toggleable__label {background-color: #d4ebff;}#sk-container-id-15 div.sk-serial::before {content: \"\";position: absolute;border-left: 1px solid gray;box-sizing: border-box;top: 0;bottom: 0;left: 50%;z-index: 0;}#sk-container-id-15 div.sk-serial {display: flex;flex-direction: column;align-items: center;background-color: white;padding-right: 0.2em;padding-left: 0.2em;position: relative;}#sk-container-id-15 div.sk-item {position: relative;z-index: 1;}#sk-container-id-15 div.sk-parallel {display: flex;align-items: stretch;justify-content: center;background-color: white;position: relative;}#sk-container-id-15 div.sk-item::before, #sk-container-id-15 div.sk-parallel-item::before {content: \"\";position: absolute;border-left: 1px solid gray;box-sizing: border-box;top: 0;bottom: 0;left: 50%;z-index: -1;}#sk-container-id-15 div.sk-parallel-item {display: flex;flex-direction: column;z-index: 1;position: relative;background-color: white;}#sk-container-id-15 div.sk-parallel-item:first-child::after {align-self: flex-end;width: 50%;}#sk-container-id-15 div.sk-parallel-item:last-child::after {align-self: flex-start;width: 50%;}#sk-container-id-15 div.sk-parallel-item:only-child::after {width: 0;}#sk-container-id-15 div.sk-dashed-wrapped {border: 1px dashed gray;margin: 0 0.4em 0.5em 0.4em;box-sizing: border-box;padding-bottom: 0.4em;background-color: white;}#sk-container-id-15 div.sk-label label {font-family: monospace;font-weight: bold;display: inline-block;line-height: 1.2em;}#sk-container-id-15 div.sk-label-container {text-align: center;}#sk-container-id-15 div.sk-container {/* jupyter's `normalize.less` sets `[hidden] { display: none; }` but bootstrap.min.css set `[hidden] { display: none !important; }` so we also need the `!important` here to be able to override the default hidden behavior on the sphinx rendered scikit-learn.org. See: https://github.com/scikit-learn/scikit-learn/issues/21755 */display: inline-block !important;position: relative;}#sk-container-id-15 div.sk-text-repr-fallback {display: none;}</style><div id=\"sk-container-id-15\" class=\"sk-top-container\"><div class=\"sk-text-repr-fallback\"><pre>LinearRegression()</pre><b>In a Jupyter environment, please rerun this cell to show the HTML representation or trust the notebook. <br />On GitHub, the HTML representation is unable to render, please try loading this page with nbviewer.org.</b></div><div class=\"sk-container\" hidden><div class=\"sk-item\"><div class=\"sk-estimator sk-toggleable\"><input class=\"sk-toggleable__control sk-hidden--visually\" id=\"sk-estimator-id-15\" type=\"checkbox\" checked><label for=\"sk-estimator-id-15\" class=\"sk-toggleable__label sk-toggleable__label-arrow\">LinearRegression</label><div class=\"sk-toggleable__content\"><pre>LinearRegression()</pre></div></div></div></div></div>"
      ],
      "text/plain": [
       "LinearRegression()"
      ]
     },
     "execution_count": 195,
     "metadata": {},
     "output_type": "execute_result"
    }
   ],
   "source": [
    "# Fitting Multiple Linear Regression to the Training set\n",
    "from sklearn.linear_model import LinearRegression\n",
    "regressor = LinearRegression()\n",
    "regressor.fit(X_train, y_train)"
   ]
  },
  {
   "cell_type": "code",
   "execution_count": 196,
   "id": "cd569a75-8ee8-4ef4-879b-69f5b8f31d9d",
   "metadata": {},
   "outputs": [
    {
     "name": "stdout",
     "output_type": "stream",
     "text": [
      "[11137.15453645  8974.9731327   9283.27025955  8951.97440751\n",
      " 10082.31592852  7959.3269862   8656.43768303  8254.87283979\n",
      " 14063.40319186 13099.95735642  9551.42647033  9325.01973397\n",
      " 12919.13152502 12925.08574757  9793.37148737  8305.77313577\n",
      " 12190.02678644 17535.47631867  7469.10553333  9146.75133486\n",
      " 12638.29998775 17804.25328461  7903.43441681 10386.01442865\n",
      "  7580.43295913 16058.83988677 10034.10324597  7412.37291567\n",
      " 15766.17628452 14440.45886039  8163.90729602  9609.36755541\n",
      "  8509.88035778 10098.71270421 10245.63943307  8073.58357557\n",
      "  8759.24335824  9965.93592783 16471.77872927  9624.35819079\n",
      "  9829.937657    9503.46762021  7888.13705539  5698.36965348\n",
      "  6870.22880548 17266.12085347  9441.28892372 10702.0580487\n",
      "  8748.50876678 13429.13420122 12940.89346452  6393.20092254\n",
      " 15071.98364029 16374.4739198   6194.47032501  7783.01004642\n",
      " 10250.60750962 10892.73156479 16161.77461917 18896.4137361\n",
      " 12700.82225076  7935.85833552  7924.15312986 11012.48786554\n",
      " 13355.82051501  8971.48313738 12701.62150354  7664.64917455\n",
      "  8412.63591203 10487.20510698 19871.26659719 11269.69286416\n",
      " 12815.02374893  7225.52850012 18786.49909189 13900.19635815\n",
      "  7665.92790172  7704.08820933  9852.42107465  9046.0642993\n",
      " 10359.40529553  8713.59081042 10601.53549709 10774.23066996\n",
      "  7384.93193848  6363.9147391  11491.84691663 12990.03032657\n",
      "  9577.99370147 10755.83766702  7422.03000716  6831.71078697\n",
      " 10489.99476358 10919.11199155 12695.0857688   9306.21574877\n",
      " 21404.03714114  7972.12174067 13925.17762225  8932.38488568\n",
      " 10594.42470302  9541.83562393 10481.96148022 16877.83426826\n",
      "  8673.03027756  7735.49160673 16766.51028446  7677.26221628\n",
      "  9577.99512716  8012.48129591 11678.86729581 10331.58561681\n",
      "  9577.03819427 13677.40961591  9460.1219842   8343.20980469\n",
      "  6629.06634417 13329.0434062  12640.03324744 13976.98716176\n",
      "  8000.16920788  7484.91966395  8333.36653381 15230.01399841\n",
      " 11594.31901036  8579.96522872 12971.21196851  8987.26297166\n",
      "  8578.18862513 12182.930546   11254.64659606 15743.84475948\n",
      " 10846.86840097  9125.92408323  6579.8736573   9629.99480596\n",
      " 10334.1288671  11501.96163563  8263.19178376  5310.8412713\n",
      " 12579.88347728 10874.41178953 12492.48889706  8485.41474828\n",
      " 12215.41984108 11181.52624306  7315.50385713  8636.37926082\n",
      "  8663.92987751 11104.47686931 10350.71381571 16148.77709684\n",
      "  8221.75422791  8985.93469265 11196.68495488 10924.2991619\n",
      "  8905.81931178 13348.01704408  9476.30739577 19318.13787209\n",
      " 11216.14570972 15822.91651684 15538.8716103   7787.19775036\n",
      "  8828.7787213  12632.82640684  7925.29020973 13520.08622798\n",
      "  7807.86741339  7666.87706993  8208.38467209 12173.3164373\n",
      "  9332.72611896 13012.27562012 10274.20479721  9620.67721362\n",
      " 16922.34463373 10723.03247923  9730.52489117 10753.36107025\n",
      " 12165.41150407 11279.06153226 13619.97049132  8356.39742642\n",
      "  9339.46456625  7335.77607857  6055.06817666  8294.02159448\n",
      "  9712.72262926 11019.95412979  8992.6025094   7273.06174554\n",
      "  6423.39394817 11173.54855752 10389.94129759 11028.79491865\n",
      "  6863.04008205  7130.39479482  9926.07350239 18337.14802069\n",
      "  9262.63621955  7780.96765513  6919.0182557   9049.8735798\n",
      " 16273.1651299  17268.82416224 10799.45354843 10103.94768016\n",
      " 10682.26564345  9268.84933132  9243.40746779 11130.11664695\n",
      " 10087.06073187  9972.8444143   7078.56244371 11636.05252468\n",
      "  7983.83604466  9250.69664934  7176.34607905 11816.21925771\n",
      "  8506.28912852 10440.50261995 10285.56482061 10408.40561735\n",
      " 17668.84206651  6649.27061281 16100.6357691   7468.15349792\n",
      " 13175.84048098  7487.73206213 12290.61102062  9587.60348315\n",
      " 27502.41843225  7839.79991459  9415.13156496  8317.71945398\n",
      " 13770.30965399 13233.24881925 10016.82666335  8540.33325053\n",
      " 13986.52100392 19211.80986305 12985.45610131  9609.54810826\n",
      " 20238.71655746  9715.84427214  9181.33608875  9925.51587783\n",
      "  9847.0543621   9447.57860362  8683.56348739 10408.22170351\n",
      "  8305.00985164  5740.46537633 10528.73520861 10755.71638705\n",
      "  6466.74759006  9817.09603854 13315.66168957 11093.60222252\n",
      " 12813.81981737  6946.07051213  6174.08839198 10515.25555719\n",
      "  6639.51224202 12803.83609449 13310.8432762   5054.26833605\n",
      "  9129.96572161  8128.65982073 13171.34285826 15626.10048911\n",
      "  6675.59884195 13498.93669995  8049.91071056  7311.6865192\n",
      "  8324.85884478  7846.88512384  6374.6921537  26351.37007746\n",
      " 22686.73550051 10217.75962624  7217.39096358 19192.10493056\n",
      "  8011.8278894  13519.16511719 10720.33125759 10638.63434683]\n"
     ]
    }
   ],
   "source": [
    "# Predicting Test set results\n",
    "y_pred=regressor.predict(X_test)\n",
    "print(y_pred)"
   ]
  },
  {
   "cell_type": "code",
   "execution_count": 197,
   "id": "06b3fa02-0862-46f4-a45c-e9cc4cce9f14",
   "metadata": {},
   "outputs": [
    {
     "name": "stdout",
     "output_type": "stream",
     "text": [
      "[-1.20830458e+02 -1.62314106e-02  1.40394788e+01  1.48830927e+02\n",
      " -3.03721946e-02 -6.03109744e+01  5.51600710e+02  2.58849583e+01\n",
      " -4.34086718e+02 -5.02635474e+02  9.36722192e+02]\n"
     ]
    }
   ],
   "source": [
    "# Calculating the Coefficient \n",
    "print(regressor.coef_)"
   ]
  },
  {
   "cell_type": "code",
   "execution_count": 198,
   "id": "e760b926-4a66-4b41-bc40-04ae62321436",
   "metadata": {},
   "outputs": [
    {
     "name": "stdout",
     "output_type": "stream",
     "text": [
      "-13821.299275879468\n"
     ]
    }
   ],
   "source": [
    "# Calculating the Intercept\n",
    "print(regressor.intercept_)"
   ]
  },
  {
   "cell_type": "code",
   "execution_count": 199,
   "id": "964cdb6e-3e9b-4606-9ff5-4c2f24cf5051",
   "metadata": {},
   "outputs": [
    {
     "data": {
      "text/plain": [
       "0.8348888040611082"
      ]
     },
     "execution_count": 199,
     "metadata": {},
     "output_type": "execute_result"
    }
   ],
   "source": [
    "# Calculating the R squared value\n",
    "from sklearn.metrics import r2_score\n",
    "r2_score(y_test, y_pred)"
   ]
  },
  {
   "cell_type": "code",
   "execution_count": 200,
   "id": "a45345d9-351e-4763-b52d-5c1de5fee1b7",
   "metadata": {},
   "outputs": [],
   "source": [
    "# Model 2\n",
    "# Splitting the dataset into the Training set and Test set using 80:20 split\n",
    "from sklearn.model_selection import train_test_split\n",
    "X_train2, X_test2, y_train2, y_test2 = train_test_split(X, y, test_size = 0.2,random_state=0)"
   ]
  },
  {
   "cell_type": "code",
   "execution_count": 201,
   "id": "9163c0d1-88fb-4e1b-a355-2bc5be38d9ea",
   "metadata": {},
   "outputs": [
    {
     "data": {
      "text/html": [
       "<style>#sk-container-id-16 {color: black;background-color: white;}#sk-container-id-16 pre{padding: 0;}#sk-container-id-16 div.sk-toggleable {background-color: white;}#sk-container-id-16 label.sk-toggleable__label {cursor: pointer;display: block;width: 100%;margin-bottom: 0;padding: 0.3em;box-sizing: border-box;text-align: center;}#sk-container-id-16 label.sk-toggleable__label-arrow:before {content: \"▸\";float: left;margin-right: 0.25em;color: #696969;}#sk-container-id-16 label.sk-toggleable__label-arrow:hover:before {color: black;}#sk-container-id-16 div.sk-estimator:hover label.sk-toggleable__label-arrow:before {color: black;}#sk-container-id-16 div.sk-toggleable__content {max-height: 0;max-width: 0;overflow: hidden;text-align: left;background-color: #f0f8ff;}#sk-container-id-16 div.sk-toggleable__content pre {margin: 0.2em;color: black;border-radius: 0.25em;background-color: #f0f8ff;}#sk-container-id-16 input.sk-toggleable__control:checked~div.sk-toggleable__content {max-height: 200px;max-width: 100%;overflow: auto;}#sk-container-id-16 input.sk-toggleable__control:checked~label.sk-toggleable__label-arrow:before {content: \"▾\";}#sk-container-id-16 div.sk-estimator input.sk-toggleable__control:checked~label.sk-toggleable__label {background-color: #d4ebff;}#sk-container-id-16 div.sk-label input.sk-toggleable__control:checked~label.sk-toggleable__label {background-color: #d4ebff;}#sk-container-id-16 input.sk-hidden--visually {border: 0;clip: rect(1px 1px 1px 1px);clip: rect(1px, 1px, 1px, 1px);height: 1px;margin: -1px;overflow: hidden;padding: 0;position: absolute;width: 1px;}#sk-container-id-16 div.sk-estimator {font-family: monospace;background-color: #f0f8ff;border: 1px dotted black;border-radius: 0.25em;box-sizing: border-box;margin-bottom: 0.5em;}#sk-container-id-16 div.sk-estimator:hover {background-color: #d4ebff;}#sk-container-id-16 div.sk-parallel-item::after {content: \"\";width: 100%;border-bottom: 1px solid gray;flex-grow: 1;}#sk-container-id-16 div.sk-label:hover label.sk-toggleable__label {background-color: #d4ebff;}#sk-container-id-16 div.sk-serial::before {content: \"\";position: absolute;border-left: 1px solid gray;box-sizing: border-box;top: 0;bottom: 0;left: 50%;z-index: 0;}#sk-container-id-16 div.sk-serial {display: flex;flex-direction: column;align-items: center;background-color: white;padding-right: 0.2em;padding-left: 0.2em;position: relative;}#sk-container-id-16 div.sk-item {position: relative;z-index: 1;}#sk-container-id-16 div.sk-parallel {display: flex;align-items: stretch;justify-content: center;background-color: white;position: relative;}#sk-container-id-16 div.sk-item::before, #sk-container-id-16 div.sk-parallel-item::before {content: \"\";position: absolute;border-left: 1px solid gray;box-sizing: border-box;top: 0;bottom: 0;left: 50%;z-index: -1;}#sk-container-id-16 div.sk-parallel-item {display: flex;flex-direction: column;z-index: 1;position: relative;background-color: white;}#sk-container-id-16 div.sk-parallel-item:first-child::after {align-self: flex-end;width: 50%;}#sk-container-id-16 div.sk-parallel-item:last-child::after {align-self: flex-start;width: 50%;}#sk-container-id-16 div.sk-parallel-item:only-child::after {width: 0;}#sk-container-id-16 div.sk-dashed-wrapped {border: 1px dashed gray;margin: 0 0.4em 0.5em 0.4em;box-sizing: border-box;padding-bottom: 0.4em;background-color: white;}#sk-container-id-16 div.sk-label label {font-family: monospace;font-weight: bold;display: inline-block;line-height: 1.2em;}#sk-container-id-16 div.sk-label-container {text-align: center;}#sk-container-id-16 div.sk-container {/* jupyter's `normalize.less` sets `[hidden] { display: none; }` but bootstrap.min.css set `[hidden] { display: none !important; }` so we also need the `!important` here to be able to override the default hidden behavior on the sphinx rendered scikit-learn.org. See: https://github.com/scikit-learn/scikit-learn/issues/21755 */display: inline-block !important;position: relative;}#sk-container-id-16 div.sk-text-repr-fallback {display: none;}</style><div id=\"sk-container-id-16\" class=\"sk-top-container\"><div class=\"sk-text-repr-fallback\"><pre>LinearRegression()</pre><b>In a Jupyter environment, please rerun this cell to show the HTML representation or trust the notebook. <br />On GitHub, the HTML representation is unable to render, please try loading this page with nbviewer.org.</b></div><div class=\"sk-container\" hidden><div class=\"sk-item\"><div class=\"sk-estimator sk-toggleable\"><input class=\"sk-toggleable__control sk-hidden--visually\" id=\"sk-estimator-id-16\" type=\"checkbox\" checked><label for=\"sk-estimator-id-16\" class=\"sk-toggleable__label sk-toggleable__label-arrow\">LinearRegression</label><div class=\"sk-toggleable__content\"><pre>LinearRegression()</pre></div></div></div></div></div>"
      ],
      "text/plain": [
       "LinearRegression()"
      ]
     },
     "execution_count": 201,
     "metadata": {},
     "output_type": "execute_result"
    }
   ],
   "source": [
    "# Fitting Multiple Linear Regression to the Training set\n",
    "from sklearn.linear_model import LinearRegression\n",
    "regressor = LinearRegression()\n",
    "regressor.fit(X_train2, y_train2)"
   ]
  },
  {
   "cell_type": "code",
   "execution_count": 202,
   "id": "fcc45c25-df3c-4b8e-bcd3-1971275a4fbd",
   "metadata": {},
   "outputs": [
    {
     "name": "stdout",
     "output_type": "stream",
     "text": [
      "[  8200.66884294  10429.06557387  12851.74363467   7634.79959584\n",
      "  10471.33812683   9480.95224838   6017.90300419  16140.9877093\n",
      "  11202.75612439  10538.60953871   6882.27907252  11229.5184558\n",
      "  11727.10605384   9713.97772851   7470.08720203  16041.14521913\n",
      "  11106.24342562   7589.1543205   12839.06798605   8843.36727239\n",
      "   6798.7648939    6189.19582865  11568.55494579  10847.72132939\n",
      "  18859.27640073   7702.54607794  13931.70856654   5683.05661954\n",
      "   9191.19607473   7838.84492591  10405.53406327   7683.79779077\n",
      "  16133.71640386   7268.52917737  11046.54967591  12880.75481711\n",
      "   9525.70859366  12235.21306023   9876.85600557   9007.97474159\n",
      "   8905.76990811  10554.50393526   9667.52669876  17099.53252085\n",
      "  11061.99408088   7085.78872947   9635.99509574   7677.73869455\n",
      "   8399.41160757   8688.0224917   19137.91689785   8435.95574213\n",
      "   7221.14585709   6593.94670534  11333.88740437  18026.36983933\n",
      "  14135.17890526  10043.04900075  19384.6438411   11065.66902562\n",
      "   6597.12110285   7865.85702795  10989.60147882  12184.29321778\n",
      "  10847.18660765  13867.04289909   8278.93282267   6878.04814649\n",
      "  17345.71702201  10814.59250964   9751.585345     9815.71389197\n",
      "  13389.40843071   6947.82461787  14891.65987656  13053.87789457\n",
      "  10481.27713336   6877.57023901   8045.42674163   8060.15463807\n",
      "   6851.49191535   8567.04271807   6185.04253573  11927.61185276\n",
      "  12064.49140148  10695.57668142  11498.19848182  12747.95419115\n",
      "   7888.88143011   9422.66574416   6789.48572859  10624.61336235\n",
      "  16413.22085791  13214.96306392   8026.32327572  12069.8652144\n",
      "  15501.79393075   9947.64701437  13402.14074324   7528.79156289\n",
      "   8253.32975443  11731.1103113   11775.92440969   8336.28487662\n",
      "   8348.69688406  18181.72504816  18191.89552181   8201.03795497\n",
      "  14207.60131789   8987.00352151  13577.24678627   9130.42909832\n",
      "  10354.12625048   9564.1292132   13040.4388869    9221.47297583\n",
      "   9322.23436277  12679.54386222   9299.69558152   8103.90564824\n",
      "  17153.04153012   7489.03479316  13921.92064381  10139.32680856\n",
      "   8005.27415828  22434.6468654    7067.32804494  10044.43484858\n",
      "   9262.23494324  10487.52575939  16907.93946328   9067.74380088\n",
      "  11375.68641425   9721.6790798   19403.30305543  11012.79746234\n",
      "  12541.79392475  12846.72322956  10209.30972391  13476.65806381\n",
      "  15511.33804353  10183.03708498   8793.86633859   7864.87843159\n",
      "   9120.00631451  17252.88106349  10500.43795763  12557.1243543\n",
      "  11480.57047246  12527.71937464   7864.31897142  13805.15352503\n",
      "   9988.82317397   6865.08054296  11195.06034905  14700.5914136\n",
      "  10055.13222999   9624.22528799   7691.69335627   8502.55894859\n",
      "   7889.60303106   9060.21289829   8446.82494898  15319.61502962\n",
      "  11199.26933336   6718.76461533  21166.60031874   9235.79004739\n",
      "   9086.32863811  15668.81296437   9882.37861224  10727.69757641\n",
      "   9894.81736374   8582.13364777   8021.83710312  10800.65965415\n",
      "   8787.45176739  12811.40744227  16816.38463685  10437.31362318\n",
      "  11300.76972266   9328.44199655   7826.07531543  15661.82407162\n",
      "  12776.19928775   9210.46941073   9437.82910722  16714.61977935\n",
      "  16299.51574913   6904.51084453   9912.03565604   8199.10203058\n",
      "  11247.27586947  12361.11935263  10256.69529137   7793.7603545\n",
      "  17800.51999526   7563.91768286   7991.47534028   5772.95316633\n",
      "   9519.62099773  12279.54099304  14095.69335639  15482.77719283\n",
      "  11101.76620323   9906.17512934  12515.85255111  10678.62309802\n",
      "   8770.78047168   6535.62729778  13541.4598874    8433.15422106\n",
      "   8558.85599016   7106.71165058   7111.44503559  15910.93473301\n",
      "  21087.98639403  10866.12651943   8077.62303476  12253.83540005\n",
      "   7597.69741144   7734.3458286   10768.86988081   8239.61033275\n",
      "  13448.48136197  10419.58372869   9975.81783196  17286.02242477\n",
      "  11013.3169857   10746.90879938   8400.8282543   10513.49226181\n",
      "  10416.66393469  14317.74227021   7384.20764814   9706.06657861\n",
      "   7477.47904254   7363.90873359   8844.80057506  13767.36162749\n",
      "  11026.72104119   9155.78112252   6946.63934601   9095.28122576\n",
      " -42257.2895768    7712.4134084   11599.90984556  12307.06497849\n",
      "  10425.0870833    9089.20789799   8297.12736166   8819.9129296\n",
      "  12249.83349718  10250.96096098  16110.74201571   8964.53143231\n",
      "   9498.58586166  16042.62513308   8427.75786094   9522.61492813\n",
      "  19697.71594747  10079.28465745  15433.34970473   8946.373651\n",
      "  15902.4397152    9970.06501578  16396.39431436   8343.80124719\n",
      "   7662.60604546  10379.14041635  12290.40515359   9915.72311884\n",
      "  11266.43556784  11851.25807276   9010.92819912  17306.22819487\n",
      "  21472.11848164   6569.47723858   8443.27419157  13275.61230872\n",
      "   7329.15532686   7586.03762229   5165.65127945  11286.63629984\n",
      "  10503.9512616    9988.246066    12753.1209436    7204.42008062]\n"
     ]
    }
   ],
   "source": [
    "# Predicting Test set results\n",
    "y_pred2=regressor.predict(X_test2)\n",
    "print(y_pred2)"
   ]
  },
  {
   "cell_type": "code",
   "execution_count": 203,
   "id": "b82edf93-3d0e-4abe-8d2b-7dee6d4402fa",
   "metadata": {},
   "outputs": [
    {
     "name": "stdout",
     "output_type": "stream",
     "text": [
      "[-1.22334618e+02 -1.72112550e-02  5.98281166e+01  3.33659306e+02\n",
      " -4.17721833e+00  8.99928497e+00  4.75916623e+02  1.95677985e+01\n",
      " -1.71297391e+03  2.14828791e+03 -4.35314001e+02]\n"
     ]
    }
   ],
   "source": [
    "# Calculating the Coefficient \n",
    "print(regressor.coef_)"
   ]
  },
  {
   "cell_type": "code",
   "execution_count": 204,
   "id": "92e95715-e8b2-4d1f-9516-58ddd04fe7bd",
   "metadata": {},
   "outputs": [
    {
     "name": "stdout",
     "output_type": "stream",
     "text": [
      "-4012.89871071549\n"
     ]
    }
   ],
   "source": [
    "# Calculating the Intercept\n",
    "print(regressor.intercept_)"
   ]
  },
  {
   "cell_type": "code",
   "execution_count": 205,
   "id": "723a6c52-0c07-4417-9005-e1085bd869fd",
   "metadata": {},
   "outputs": [
    {
     "data": {
      "text/plain": [
       "-0.20625544704714538"
      ]
     },
     "execution_count": 205,
     "metadata": {},
     "output_type": "execute_result"
    }
   ],
   "source": [
    "# Calculating the R squared value\n",
    "r2_score(y_test2, y_pred2)"
   ]
  },
  {
   "cell_type": "code",
   "execution_count": 206,
   "id": "0594af50-3f9b-4a17-9bef-7934542b48e6",
   "metadata": {},
   "outputs": [],
   "source": [
    "# Model 3\n",
    "# Splitting the dataset into the Training set and Test set using 80:20 split\n",
    "from sklearn.model_selection import train_test_split\n",
    "X_train3, X_test3, y_train3, y_test3 = train_test_split(X, y, test_size = 0.2,random_state=20)"
   ]
  },
  {
   "cell_type": "code",
   "execution_count": 207,
   "id": "e8478d97-9e86-4edb-8dbf-d09902c1595c",
   "metadata": {},
   "outputs": [
    {
     "data": {
      "text/html": [
       "<style>#sk-container-id-17 {color: black;background-color: white;}#sk-container-id-17 pre{padding: 0;}#sk-container-id-17 div.sk-toggleable {background-color: white;}#sk-container-id-17 label.sk-toggleable__label {cursor: pointer;display: block;width: 100%;margin-bottom: 0;padding: 0.3em;box-sizing: border-box;text-align: center;}#sk-container-id-17 label.sk-toggleable__label-arrow:before {content: \"▸\";float: left;margin-right: 0.25em;color: #696969;}#sk-container-id-17 label.sk-toggleable__label-arrow:hover:before {color: black;}#sk-container-id-17 div.sk-estimator:hover label.sk-toggleable__label-arrow:before {color: black;}#sk-container-id-17 div.sk-toggleable__content {max-height: 0;max-width: 0;overflow: hidden;text-align: left;background-color: #f0f8ff;}#sk-container-id-17 div.sk-toggleable__content pre {margin: 0.2em;color: black;border-radius: 0.25em;background-color: #f0f8ff;}#sk-container-id-17 input.sk-toggleable__control:checked~div.sk-toggleable__content {max-height: 200px;max-width: 100%;overflow: auto;}#sk-container-id-17 input.sk-toggleable__control:checked~label.sk-toggleable__label-arrow:before {content: \"▾\";}#sk-container-id-17 div.sk-estimator input.sk-toggleable__control:checked~label.sk-toggleable__label {background-color: #d4ebff;}#sk-container-id-17 div.sk-label input.sk-toggleable__control:checked~label.sk-toggleable__label {background-color: #d4ebff;}#sk-container-id-17 input.sk-hidden--visually {border: 0;clip: rect(1px 1px 1px 1px);clip: rect(1px, 1px, 1px, 1px);height: 1px;margin: -1px;overflow: hidden;padding: 0;position: absolute;width: 1px;}#sk-container-id-17 div.sk-estimator {font-family: monospace;background-color: #f0f8ff;border: 1px dotted black;border-radius: 0.25em;box-sizing: border-box;margin-bottom: 0.5em;}#sk-container-id-17 div.sk-estimator:hover {background-color: #d4ebff;}#sk-container-id-17 div.sk-parallel-item::after {content: \"\";width: 100%;border-bottom: 1px solid gray;flex-grow: 1;}#sk-container-id-17 div.sk-label:hover label.sk-toggleable__label {background-color: #d4ebff;}#sk-container-id-17 div.sk-serial::before {content: \"\";position: absolute;border-left: 1px solid gray;box-sizing: border-box;top: 0;bottom: 0;left: 50%;z-index: 0;}#sk-container-id-17 div.sk-serial {display: flex;flex-direction: column;align-items: center;background-color: white;padding-right: 0.2em;padding-left: 0.2em;position: relative;}#sk-container-id-17 div.sk-item {position: relative;z-index: 1;}#sk-container-id-17 div.sk-parallel {display: flex;align-items: stretch;justify-content: center;background-color: white;position: relative;}#sk-container-id-17 div.sk-item::before, #sk-container-id-17 div.sk-parallel-item::before {content: \"\";position: absolute;border-left: 1px solid gray;box-sizing: border-box;top: 0;bottom: 0;left: 50%;z-index: -1;}#sk-container-id-17 div.sk-parallel-item {display: flex;flex-direction: column;z-index: 1;position: relative;background-color: white;}#sk-container-id-17 div.sk-parallel-item:first-child::after {align-self: flex-end;width: 50%;}#sk-container-id-17 div.sk-parallel-item:last-child::after {align-self: flex-start;width: 50%;}#sk-container-id-17 div.sk-parallel-item:only-child::after {width: 0;}#sk-container-id-17 div.sk-dashed-wrapped {border: 1px dashed gray;margin: 0 0.4em 0.5em 0.4em;box-sizing: border-box;padding-bottom: 0.4em;background-color: white;}#sk-container-id-17 div.sk-label label {font-family: monospace;font-weight: bold;display: inline-block;line-height: 1.2em;}#sk-container-id-17 div.sk-label-container {text-align: center;}#sk-container-id-17 div.sk-container {/* jupyter's `normalize.less` sets `[hidden] { display: none; }` but bootstrap.min.css set `[hidden] { display: none !important; }` so we also need the `!important` here to be able to override the default hidden behavior on the sphinx rendered scikit-learn.org. See: https://github.com/scikit-learn/scikit-learn/issues/21755 */display: inline-block !important;position: relative;}#sk-container-id-17 div.sk-text-repr-fallback {display: none;}</style><div id=\"sk-container-id-17\" class=\"sk-top-container\"><div class=\"sk-text-repr-fallback\"><pre>LinearRegression()</pre><b>In a Jupyter environment, please rerun this cell to show the HTML representation or trust the notebook. <br />On GitHub, the HTML representation is unable to render, please try loading this page with nbviewer.org.</b></div><div class=\"sk-container\" hidden><div class=\"sk-item\"><div class=\"sk-estimator sk-toggleable\"><input class=\"sk-toggleable__control sk-hidden--visually\" id=\"sk-estimator-id-17\" type=\"checkbox\" checked><label for=\"sk-estimator-id-17\" class=\"sk-toggleable__label sk-toggleable__label-arrow\">LinearRegression</label><div class=\"sk-toggleable__content\"><pre>LinearRegression()</pre></div></div></div></div></div>"
      ],
      "text/plain": [
       "LinearRegression()"
      ]
     },
     "execution_count": 207,
     "metadata": {},
     "output_type": "execute_result"
    }
   ],
   "source": [
    "# Fitting Multiple Linear Regression to the Training set\n",
    "from sklearn.linear_model import LinearRegression\n",
    "regressor = LinearRegression()\n",
    "regressor.fit(X_train3, y_train3)"
   ]
  },
  {
   "cell_type": "code",
   "execution_count": 208,
   "id": "59ebcb2a-5194-43c1-9414-d18d46a483ed",
   "metadata": {},
   "outputs": [
    {
     "name": "stdout",
     "output_type": "stream",
     "text": [
      "[17697.56334419  7974.59370001  8935.06072971 11675.00864928\n",
      " 11854.98755554 10969.02513438 15068.76829715  7251.50670999\n",
      " 11836.76911823  9717.27368203  8255.85778057  9739.90086739\n",
      " 20188.1640217   7815.59430024 18728.4177033   6463.7040447\n",
      "  6948.79150523 12901.0529734  13167.33667817  8019.88760961\n",
      " 13442.2742993  10289.86959344  6336.82974234  7231.94926949\n",
      " 10745.14634499  6448.14761823  6355.80702481  7522.80048096\n",
      "  9741.68745076 10670.01694565 12327.62150708  9907.0254679\n",
      " 11358.57305136  8459.11176886 12395.839857   12428.09331579\n",
      "  9206.65694998 13779.52636655  9182.20477341  7957.25434065\n",
      " 10782.39839865  7412.26315258 10739.14573062  9663.97829567\n",
      " 10597.19950169 10564.31894678 19931.13822935 15537.71309156\n",
      "  9703.32820475 11192.61893258  9382.98027838 14130.85248087\n",
      " 13263.50760702  8150.99735121 11291.69643279 11469.43242865\n",
      "  8676.87833093 11414.41264607  7708.24165721 10616.05653515\n",
      "  8720.95555569  8555.23832127  5309.12085785  7991.97295502\n",
      "  9903.47186929 14484.28375459  8020.13789986  7683.85025963\n",
      " 10187.41651835  7987.99317934 10036.70035518 16479.16871295\n",
      "  7786.14323108  8560.16580818  8744.37697314  9401.81895977\n",
      " 11222.85177108  7809.25839409  8350.41393427  6832.5556873\n",
      " 10427.70283527 12031.83361619 12332.56265241 11194.67812715\n",
      "  9681.70899307 10683.26753605  8426.66821351 18266.94911311\n",
      " 17413.92362597  9953.66424309 18422.26448857  6657.20428013\n",
      "  8620.56887135  8623.66961148  6959.47768892  7500.33104629\n",
      " 10966.95575633  9325.97127363  9221.46681745 10016.95001238\n",
      "  7866.90964961  8684.54370258 10585.21557631 12564.61729185\n",
      "  7389.90104019  9262.47108963  9203.14969005  7747.52104336\n",
      " 10235.71393929  7474.3316466  11378.85063271  6327.31054244\n",
      "  9573.5266906   9899.75880135  9280.82548615 17668.79567354\n",
      "  8506.66604177 17805.76401631 13303.34142587  7678.96045791\n",
      " 10100.91301725 11839.46274852  7934.14732999 12696.52845222\n",
      " 11250.39613109  6519.02935088  9730.74533847 11686.10120823\n",
      " 16038.97001979 10006.85549635 13998.98440129 10410.10328454\n",
      "  6928.1209977  10492.65740876 10171.45043604 11094.55067492\n",
      "  7978.61537232 15475.22503859  7109.46746353 17479.89807488\n",
      "  6994.13869201  7882.05198035  8986.36234242 11045.42647723\n",
      "  7312.5943305   8666.45961589  6979.82670065 13025.31538597\n",
      " 11628.37382338 16953.60604773  8650.47552762  7047.27732226\n",
      "  9123.74540649  5181.94525359  8541.02147807  7751.87831042\n",
      "  7329.91827312 19222.38822586  9775.83845752 17357.9451538\n",
      "  7858.16813299  9627.69213422  9528.98837934  8028.3856359\n",
      "  6330.24300629  9461.60638349  8201.72669358 12459.9523879\n",
      " 12798.62839516  9890.84293621 10520.87394403  7980.71073312\n",
      " 14449.1217646   8960.25344522 26237.89455099  7893.69649853\n",
      "  7729.91741567  8911.59305732 11032.94583857  9523.44889361\n",
      "  8250.16395715 10445.84435307 12281.91211889  7160.44719916\n",
      "  7804.19939956  9836.76673416 18513.88523882  7675.00110243\n",
      "  9069.86733376 14186.12559256  8438.30109351 11502.31764756\n",
      "  6416.00112495 10801.15373386 11409.58007288  7161.89907401\n",
      " 16444.82118459 13015.57620198  8204.21291935 12339.25974146\n",
      "  9313.38684117  8451.56982988 11935.83967644 13494.12172994\n",
      "  9658.6879467  16642.4302335  11105.11371661  7814.28404051\n",
      "  7558.23664538  7755.76123992  7066.65960017 17016.67694335\n",
      "  8258.48915296 12766.14103273 10084.14118271 21122.69074794\n",
      "  8995.64394726 10749.44052099 11856.39933526 18425.76015409\n",
      " 16682.53445588  7826.18441543  6939.3632563  12727.82583844\n",
      " 10005.40324747  8621.3601632  13087.80841651 18740.21725935\n",
      "  6563.39532212  8912.81557413 11462.82254917 19588.75439878\n",
      " 10840.4231112  14282.39481192 12571.18831719 10108.53591751\n",
      "  8618.54650271 16941.5641299  10073.43325931 11134.07441288\n",
      " 11787.87585391  8324.73982648 13519.11960025  9574.77680506\n",
      "  8132.81356092 14005.86823442  7732.65151137  6848.04581179\n",
      "  9684.5802181  17535.51760793  7550.91656504  9626.795122\n",
      "  9233.86010292 10814.44560366 17695.34942616 27471.96809348\n",
      " 19053.09745905 10568.09860262  6018.70629121 18178.13736034\n",
      "  7943.74922119  7839.7408785   9384.19068218 10623.80155726\n",
      "  8593.12756798  5220.22131687  7914.39426931  8146.34874384\n",
      "  6522.917352    7989.69368953 13121.87915764  9332.81251707\n",
      "  9399.86731317  9610.27094028 10629.91513924 12397.71154642\n",
      "  9656.74337455 11612.04598441  9792.97249125  7781.53507962\n",
      "  9729.26431912  9946.25313808  6659.74226014 13966.55287885\n",
      " 13354.5356933   9045.11767447 11691.30086066  9626.69478314]\n"
     ]
    }
   ],
   "source": [
    "# Predicting Test set results\n",
    "y_pred3=regressor.predict(X_test3)\n",
    "print(y_pred3)"
   ]
  },
  {
   "cell_type": "code",
   "execution_count": 209,
   "id": "52d137ad-1eec-41e7-87b5-2204b8f51200",
   "metadata": {},
   "outputs": [
    {
     "name": "stdout",
     "output_type": "stream",
     "text": [
      "[-1.20745792e+02 -1.69002201e-02  1.34952292e+01  9.61840431e+01\n",
      " -2.65086830e-02 -4.42000295e+01  5.56585712e+02  2.57133515e+01\n",
      " -3.87926173e+02 -4.96409828e+02  8.84336001e+02]\n"
     ]
    }
   ],
   "source": [
    "# Calculating the Coefficient \n",
    "print(regressor.coef_)"
   ]
  },
  {
   "cell_type": "code",
   "execution_count": 210,
   "id": "fecf6193-f94c-491e-9c48-087fcef5bf81",
   "metadata": {},
   "outputs": [
    {
     "name": "stdout",
     "output_type": "stream",
     "text": [
      "-13611.155870097666\n"
     ]
    }
   ],
   "source": [
    "# Calculating the Intercept\n",
    "print(regressor.intercept_)"
   ]
  },
  {
   "cell_type": "code",
   "execution_count": 211,
   "id": "a064e46c-f15a-4f65-a4ae-a083b9504602",
   "metadata": {},
   "outputs": [
    {
     "data": {
      "text/plain": [
       "0.8323386348944903"
      ]
     },
     "execution_count": 211,
     "metadata": {},
     "output_type": "execute_result"
    }
   ],
   "source": [
    "# Calculating the R squared value\n",
    "r2_score(y_test3, y_pred3)"
   ]
  },
  {
   "cell_type": "code",
   "execution_count": 212,
   "id": "408e170a-d48d-454b-a303-47b0c4ab570b",
   "metadata": {},
   "outputs": [],
   "source": [
    "# Inference:\n",
    "# Model1: r2 score:0.8348888040611082\n",
    "# This is a good score and our model is working well.\n",
    "# Model2: r2 score:-0.20625544704714538\n",
    "# Negative r2 score means that there is a overfitting problem in the model.\n",
    "# Model3: r2 score:0.8323386348944903\n",
    "# This is a good score and our model is working well."
   ]
  },
  {
   "cell_type": "code",
   "execution_count": 213,
   "id": "174ad779-66fb-4e30-818a-3771828a10a8",
   "metadata": {},
   "outputs": [],
   "source": [
    "# APPLYING LASSO AND RIDGE METHODS FOR COUNTERING THE OVERFITTING PROBLEM (L1,L2 REGULARIZATION)"
   ]
  },
  {
   "cell_type": "code",
   "execution_count": 214,
   "id": "c0206639-7cff-4b79-919c-b81007b683a1",
   "metadata": {},
   "outputs": [
    {
     "data": {
      "text/html": [
       "<style>#sk-container-id-18 {color: black;background-color: white;}#sk-container-id-18 pre{padding: 0;}#sk-container-id-18 div.sk-toggleable {background-color: white;}#sk-container-id-18 label.sk-toggleable__label {cursor: pointer;display: block;width: 100%;margin-bottom: 0;padding: 0.3em;box-sizing: border-box;text-align: center;}#sk-container-id-18 label.sk-toggleable__label-arrow:before {content: \"▸\";float: left;margin-right: 0.25em;color: #696969;}#sk-container-id-18 label.sk-toggleable__label-arrow:hover:before {color: black;}#sk-container-id-18 div.sk-estimator:hover label.sk-toggleable__label-arrow:before {color: black;}#sk-container-id-18 div.sk-toggleable__content {max-height: 0;max-width: 0;overflow: hidden;text-align: left;background-color: #f0f8ff;}#sk-container-id-18 div.sk-toggleable__content pre {margin: 0.2em;color: black;border-radius: 0.25em;background-color: #f0f8ff;}#sk-container-id-18 input.sk-toggleable__control:checked~div.sk-toggleable__content {max-height: 200px;max-width: 100%;overflow: auto;}#sk-container-id-18 input.sk-toggleable__control:checked~label.sk-toggleable__label-arrow:before {content: \"▾\";}#sk-container-id-18 div.sk-estimator input.sk-toggleable__control:checked~label.sk-toggleable__label {background-color: #d4ebff;}#sk-container-id-18 div.sk-label input.sk-toggleable__control:checked~label.sk-toggleable__label {background-color: #d4ebff;}#sk-container-id-18 input.sk-hidden--visually {border: 0;clip: rect(1px 1px 1px 1px);clip: rect(1px, 1px, 1px, 1px);height: 1px;margin: -1px;overflow: hidden;padding: 0;position: absolute;width: 1px;}#sk-container-id-18 div.sk-estimator {font-family: monospace;background-color: #f0f8ff;border: 1px dotted black;border-radius: 0.25em;box-sizing: border-box;margin-bottom: 0.5em;}#sk-container-id-18 div.sk-estimator:hover {background-color: #d4ebff;}#sk-container-id-18 div.sk-parallel-item::after {content: \"\";width: 100%;border-bottom: 1px solid gray;flex-grow: 1;}#sk-container-id-18 div.sk-label:hover label.sk-toggleable__label {background-color: #d4ebff;}#sk-container-id-18 div.sk-serial::before {content: \"\";position: absolute;border-left: 1px solid gray;box-sizing: border-box;top: 0;bottom: 0;left: 50%;z-index: 0;}#sk-container-id-18 div.sk-serial {display: flex;flex-direction: column;align-items: center;background-color: white;padding-right: 0.2em;padding-left: 0.2em;position: relative;}#sk-container-id-18 div.sk-item {position: relative;z-index: 1;}#sk-container-id-18 div.sk-parallel {display: flex;align-items: stretch;justify-content: center;background-color: white;position: relative;}#sk-container-id-18 div.sk-item::before, #sk-container-id-18 div.sk-parallel-item::before {content: \"\";position: absolute;border-left: 1px solid gray;box-sizing: border-box;top: 0;bottom: 0;left: 50%;z-index: -1;}#sk-container-id-18 div.sk-parallel-item {display: flex;flex-direction: column;z-index: 1;position: relative;background-color: white;}#sk-container-id-18 div.sk-parallel-item:first-child::after {align-self: flex-end;width: 50%;}#sk-container-id-18 div.sk-parallel-item:last-child::after {align-self: flex-start;width: 50%;}#sk-container-id-18 div.sk-parallel-item:only-child::after {width: 0;}#sk-container-id-18 div.sk-dashed-wrapped {border: 1px dashed gray;margin: 0 0.4em 0.5em 0.4em;box-sizing: border-box;padding-bottom: 0.4em;background-color: white;}#sk-container-id-18 div.sk-label label {font-family: monospace;font-weight: bold;display: inline-block;line-height: 1.2em;}#sk-container-id-18 div.sk-label-container {text-align: center;}#sk-container-id-18 div.sk-container {/* jupyter's `normalize.less` sets `[hidden] { display: none; }` but bootstrap.min.css set `[hidden] { display: none !important; }` so we also need the `!important` here to be able to override the default hidden behavior on the sphinx rendered scikit-learn.org. See: https://github.com/scikit-learn/scikit-learn/issues/21755 */display: inline-block !important;position: relative;}#sk-container-id-18 div.sk-text-repr-fallback {display: none;}</style><div id=\"sk-container-id-18\" class=\"sk-top-container\"><div class=\"sk-text-repr-fallback\"><pre>Lasso(alpha=50, max_iter=100, tol=0.1)</pre><b>In a Jupyter environment, please rerun this cell to show the HTML representation or trust the notebook. <br />On GitHub, the HTML representation is unable to render, please try loading this page with nbviewer.org.</b></div><div class=\"sk-container\" hidden><div class=\"sk-item\"><div class=\"sk-estimator sk-toggleable\"><input class=\"sk-toggleable__control sk-hidden--visually\" id=\"sk-estimator-id-18\" type=\"checkbox\" checked><label for=\"sk-estimator-id-18\" class=\"sk-toggleable__label sk-toggleable__label-arrow\">Lasso</label><div class=\"sk-toggleable__content\"><pre>Lasso(alpha=50, max_iter=100, tol=0.1)</pre></div></div></div></div></div>"
      ],
      "text/plain": [
       "Lasso(alpha=50, max_iter=100, tol=0.1)"
      ]
     },
     "execution_count": 214,
     "metadata": {},
     "output_type": "execute_result"
    }
   ],
   "source": [
    "# Applying the lasso method for Model 2:\n",
    "from sklearn import linear_model\n",
    "\n",
    "lasso_reg = linear_model.Lasso(alpha=50, max_iter=100, tol=0.1)\n",
    "lasso_reg.fit(X_train2, y_train2)"
   ]
  },
  {
   "cell_type": "code",
   "execution_count": 215,
   "id": "13d7071b-05fe-4257-8e0e-a2f3f1b9852e",
   "metadata": {},
   "outputs": [
    {
     "data": {
      "text/plain": [
       "0.8295685225917153"
      ]
     },
     "execution_count": 215,
     "metadata": {},
     "output_type": "execute_result"
    }
   ],
   "source": [
    "# r2 score for the test dataset:\n",
    "lasso_reg.score(X_test2, y_test2)"
   ]
  },
  {
   "cell_type": "code",
   "execution_count": 216,
   "id": "58dae898-22ed-49ba-9cbc-b2ee831d209e",
   "metadata": {},
   "outputs": [
    {
     "data": {
      "text/plain": [
       "0.8684119198336164"
      ]
     },
     "execution_count": 216,
     "metadata": {},
     "output_type": "execute_result"
    }
   ],
   "source": [
    "# r2 score for the train dataset:\n",
    "lasso_reg.score(X_train2, y_train2)"
   ]
  },
  {
   "cell_type": "code",
   "execution_count": 217,
   "id": "d13f697e-7722-4302-8315-29a0cb9efc0c",
   "metadata": {},
   "outputs": [
    {
     "data": {
      "text/html": [
       "<style>#sk-container-id-19 {color: black;background-color: white;}#sk-container-id-19 pre{padding: 0;}#sk-container-id-19 div.sk-toggleable {background-color: white;}#sk-container-id-19 label.sk-toggleable__label {cursor: pointer;display: block;width: 100%;margin-bottom: 0;padding: 0.3em;box-sizing: border-box;text-align: center;}#sk-container-id-19 label.sk-toggleable__label-arrow:before {content: \"▸\";float: left;margin-right: 0.25em;color: #696969;}#sk-container-id-19 label.sk-toggleable__label-arrow:hover:before {color: black;}#sk-container-id-19 div.sk-estimator:hover label.sk-toggleable__label-arrow:before {color: black;}#sk-container-id-19 div.sk-toggleable__content {max-height: 0;max-width: 0;overflow: hidden;text-align: left;background-color: #f0f8ff;}#sk-container-id-19 div.sk-toggleable__content pre {margin: 0.2em;color: black;border-radius: 0.25em;background-color: #f0f8ff;}#sk-container-id-19 input.sk-toggleable__control:checked~div.sk-toggleable__content {max-height: 200px;max-width: 100%;overflow: auto;}#sk-container-id-19 input.sk-toggleable__control:checked~label.sk-toggleable__label-arrow:before {content: \"▾\";}#sk-container-id-19 div.sk-estimator input.sk-toggleable__control:checked~label.sk-toggleable__label {background-color: #d4ebff;}#sk-container-id-19 div.sk-label input.sk-toggleable__control:checked~label.sk-toggleable__label {background-color: #d4ebff;}#sk-container-id-19 input.sk-hidden--visually {border: 0;clip: rect(1px 1px 1px 1px);clip: rect(1px, 1px, 1px, 1px);height: 1px;margin: -1px;overflow: hidden;padding: 0;position: absolute;width: 1px;}#sk-container-id-19 div.sk-estimator {font-family: monospace;background-color: #f0f8ff;border: 1px dotted black;border-radius: 0.25em;box-sizing: border-box;margin-bottom: 0.5em;}#sk-container-id-19 div.sk-estimator:hover {background-color: #d4ebff;}#sk-container-id-19 div.sk-parallel-item::after {content: \"\";width: 100%;border-bottom: 1px solid gray;flex-grow: 1;}#sk-container-id-19 div.sk-label:hover label.sk-toggleable__label {background-color: #d4ebff;}#sk-container-id-19 div.sk-serial::before {content: \"\";position: absolute;border-left: 1px solid gray;box-sizing: border-box;top: 0;bottom: 0;left: 50%;z-index: 0;}#sk-container-id-19 div.sk-serial {display: flex;flex-direction: column;align-items: center;background-color: white;padding-right: 0.2em;padding-left: 0.2em;position: relative;}#sk-container-id-19 div.sk-item {position: relative;z-index: 1;}#sk-container-id-19 div.sk-parallel {display: flex;align-items: stretch;justify-content: center;background-color: white;position: relative;}#sk-container-id-19 div.sk-item::before, #sk-container-id-19 div.sk-parallel-item::before {content: \"\";position: absolute;border-left: 1px solid gray;box-sizing: border-box;top: 0;bottom: 0;left: 50%;z-index: -1;}#sk-container-id-19 div.sk-parallel-item {display: flex;flex-direction: column;z-index: 1;position: relative;background-color: white;}#sk-container-id-19 div.sk-parallel-item:first-child::after {align-self: flex-end;width: 50%;}#sk-container-id-19 div.sk-parallel-item:last-child::after {align-self: flex-start;width: 50%;}#sk-container-id-19 div.sk-parallel-item:only-child::after {width: 0;}#sk-container-id-19 div.sk-dashed-wrapped {border: 1px dashed gray;margin: 0 0.4em 0.5em 0.4em;box-sizing: border-box;padding-bottom: 0.4em;background-color: white;}#sk-container-id-19 div.sk-label label {font-family: monospace;font-weight: bold;display: inline-block;line-height: 1.2em;}#sk-container-id-19 div.sk-label-container {text-align: center;}#sk-container-id-19 div.sk-container {/* jupyter's `normalize.less` sets `[hidden] { display: none; }` but bootstrap.min.css set `[hidden] { display: none !important; }` so we also need the `!important` here to be able to override the default hidden behavior on the sphinx rendered scikit-learn.org. See: https://github.com/scikit-learn/scikit-learn/issues/21755 */display: inline-block !important;position: relative;}#sk-container-id-19 div.sk-text-repr-fallback {display: none;}</style><div id=\"sk-container-id-19\" class=\"sk-top-container\"><div class=\"sk-text-repr-fallback\"><pre>Ridge(alpha=50, max_iter=100, tol=0.1)</pre><b>In a Jupyter environment, please rerun this cell to show the HTML representation or trust the notebook. <br />On GitHub, the HTML representation is unable to render, please try loading this page with nbviewer.org.</b></div><div class=\"sk-container\" hidden><div class=\"sk-item\"><div class=\"sk-estimator sk-toggleable\"><input class=\"sk-toggleable__control sk-hidden--visually\" id=\"sk-estimator-id-19\" type=\"checkbox\" checked><label for=\"sk-estimator-id-19\" class=\"sk-toggleable__label sk-toggleable__label-arrow\">Ridge</label><div class=\"sk-toggleable__content\"><pre>Ridge(alpha=50, max_iter=100, tol=0.1)</pre></div></div></div></div></div>"
      ],
      "text/plain": [
       "Ridge(alpha=50, max_iter=100, tol=0.1)"
      ]
     },
     "execution_count": 217,
     "metadata": {},
     "output_type": "execute_result"
    }
   ],
   "source": [
    "# Applying the ridge method for Model 2:\n",
    "from sklearn.linear_model import Ridge\n",
    "\n",
    "ridge_reg= Ridge(alpha=50, max_iter=100, tol=0.1)\n",
    "ridge_reg.fit(X_train2, y_train2)"
   ]
  },
  {
   "cell_type": "code",
   "execution_count": 218,
   "id": "78fd25c5-7c44-498e-9e54-0bbee4af7bdc",
   "metadata": {},
   "outputs": [
    {
     "data": {
      "text/plain": [
       "0.6601808656377497"
      ]
     },
     "execution_count": 218,
     "metadata": {},
     "output_type": "execute_result"
    }
   ],
   "source": [
    "# r2 score for the test dataset:\n",
    "ridge_reg.score(X_test2, y_test2)"
   ]
  },
  {
   "cell_type": "code",
   "execution_count": 219,
   "id": "f3f1baeb-b675-43d6-803e-7f262cb5035f",
   "metadata": {},
   "outputs": [
    {
     "data": {
      "text/plain": [
       "0.8726765763850005"
      ]
     },
     "execution_count": 219,
     "metadata": {},
     "output_type": "execute_result"
    }
   ],
   "source": [
    "# r2 score for the train dataset:\n",
    "ridge_reg.score(X_train2, y_train2)"
   ]
  },
  {
   "cell_type": "code",
   "execution_count": 220,
   "id": "01426180-0709-4ef1-b702-f5781cb74e6c",
   "metadata": {},
   "outputs": [],
   "source": [
    "# Inference:\n",
    "# The lasso method is overall a better way to solve the overfitting of model 2 as it provides a score of 0.8295685225917153\n",
    "# compared to 0.6601808656377497 score of the ridge method in the test data.\n",
    "# Therefore by applying lasso and ridge methods we have improved the r2 score for the model 2."
   ]
  }
 ],
 "metadata": {
  "kernelspec": {
   "display_name": "Python 3 (ipykernel)",
   "language": "python",
   "name": "python3"
  },
  "language_info": {
   "codemirror_mode": {
    "name": "ipython",
    "version": 3
   },
   "file_extension": ".py",
   "mimetype": "text/x-python",
   "name": "python",
   "nbconvert_exporter": "python",
   "pygments_lexer": "ipython3",
   "version": "3.11.7"
  }
 },
 "nbformat": 4,
 "nbformat_minor": 5
}
