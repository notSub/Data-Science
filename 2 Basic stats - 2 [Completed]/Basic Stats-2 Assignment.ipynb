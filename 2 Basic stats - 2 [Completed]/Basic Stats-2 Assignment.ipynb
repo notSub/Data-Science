{
 "cells": [
  {
   "cell_type": "code",
   "execution_count": 28,
   "id": "9cb1b752-2f12-4f2b-bb81-fe3b6245effb",
   "metadata": {},
   "outputs": [],
   "source": [
    "import pandas as pd\n",
    "import numpy as np\n",
    "import scipy.stats as stat\n"
   ]
  },
  {
   "cell_type": "code",
   "execution_count": 2,
   "id": "27947138-ed95-4dd6-a708-078d5acb5e10",
   "metadata": {},
   "outputs": [],
   "source": [
    "# Given sample of the population\n",
    "# WE have sample mean and sample std\n",
    "sample=[1.13, 1.55, 1.43, 0.92, 1.25, 1.36, 1.32, 0.85, 1.07, 1.48, 1.20, 1.33, 1.18, 1.22, 1.29]"
   ]
  },
  {
   "cell_type": "code",
   "execution_count": 18,
   "id": "53bf9307-b2f4-4581-a6ba-f9a85e915fe1",
   "metadata": {},
   "outputs": [
    {
     "data": {
      "text/plain": [
       "1.2386666666666666"
      ]
     },
     "execution_count": 18,
     "metadata": {},
     "output_type": "execute_result"
    }
   ],
   "source": [
    "smean=np.mean(sample)\n",
    "smean"
   ]
  },
  {
   "cell_type": "code",
   "execution_count": 26,
   "id": "6f3c2758-0cd2-4165-9108-b2fdaf9b159b",
   "metadata": {},
   "outputs": [
    {
     "data": {
      "text/plain": [
       "0.19316412956959936"
      ]
     },
     "execution_count": 26,
     "metadata": {},
     "output_type": "execute_result"
    }
   ],
   "source": [
    "sstd=np.std(sample,ddof=1)\n",
    "sstd"
   ]
  },
  {
   "cell_type": "code",
   "execution_count": 27,
   "id": "e4e67bcd-2707-48b2-ac6b-deb495887ae9",
   "metadata": {},
   "outputs": [
    {
     "data": {
      "text/plain": [
       "15"
      ]
     },
     "execution_count": 27,
     "metadata": {},
     "output_type": "execute_result"
    }
   ],
   "source": [
    "ssize=len(sample)\n",
    "ssize"
   ]
  },
  {
   "cell_type": "code",
   "execution_count": 29,
   "id": "15336d5f-b7ee-4b4d-85ea-4f616a040430",
   "metadata": {},
   "outputs": [],
   "source": [
    "# 99% CI for the sample\n",
    "# formula is x(sample mean)+-z(std/root(n))\n",
    "# z is nothing but the critical value\n",
    "clevel=0.99\n",
    "alpha=1-clevel\n",
    "z=stat.norm.ppf(1-alpha/2)\n",
    "marginoferror=z*(sstd/np.sqrt(ssize))\n",
    "confidence_interval=(smean-marginoferror,smean+marginoferror)"
   ]
  },
  {
   "cell_type": "code",
   "execution_count": 30,
   "id": "88f9f27e-07f0-4b5c-a48d-6005fcc95ef8",
   "metadata": {},
   "outputs": [
    {
     "data": {
      "text/plain": [
       "(1.110197788578895, 1.3671355447544382)"
      ]
     },
     "execution_count": 30,
     "metadata": {},
     "output_type": "execute_result"
    }
   ],
   "source": [
    "# confidence interval\n",
    "# this means that the population mean lies between 1.11 and 1.36\n",
    "confidence_interval"
   ]
  },
  {
   "cell_type": "code",
   "execution_count": 32,
   "id": "210b696d-ea0e-4b0e-9b3a-3d13277f90f9",
   "metadata": {},
   "outputs": [],
   "source": [
    "# now lets calculate the 99%Ci with the standard deviation of the population known\n",
    "pstd=0.2"
   ]
  },
  {
   "cell_type": "code",
   "execution_count": 33,
   "id": "1772c700-ac42-409f-9ab2-af880c4368be",
   "metadata": {},
   "outputs": [],
   "source": [
    "marginoferror=z*(pstd/np.sqrt(ssize))\n",
    "confidence_interval=(smean-marginoferror,smean+marginoferror)"
   ]
  },
  {
   "cell_type": "code",
   "execution_count": 34,
   "id": "a31dfd7f-f504-4703-afab-fe2dccb5a6f4",
   "metadata": {},
   "outputs": [
    {
     "data": {
      "text/plain": [
       "(1.1056514133957607, 1.3716819199375725)"
      ]
     },
     "execution_count": 34,
     "metadata": {},
     "output_type": "execute_result"
    }
   ],
   "source": [
    "# confidence interval for known population std\n",
    "# this means that the population mean lies between 1.10 and 1.37\n",
    "confidence_interval"
   ]
  },
  {
   "cell_type": "code",
   "execution_count": null,
   "id": "4d3bc677-3f09-4f7f-b80a-d226cad6c246",
   "metadata": {},
   "outputs": [],
   "source": []
  }
 ],
 "metadata": {
  "kernelspec": {
   "display_name": "Python 3 (ipykernel)",
   "language": "python",
   "name": "python3"
  },
  "language_info": {
   "codemirror_mode": {
    "name": "ipython",
    "version": 3
   },
   "file_extension": ".py",
   "mimetype": "text/x-python",
   "name": "python",
   "nbconvert_exporter": "python",
   "pygments_lexer": "ipython3",
   "version": "3.11.7"
  }
 },
 "nbformat": 4,
 "nbformat_minor": 5
}
