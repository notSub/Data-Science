{
 "cells": [
  {
   "cell_type": "code",
   "execution_count": 91,
   "id": "b27b60c2-f206-4103-a931-bfbe9338620a",
   "metadata": {},
   "outputs": [],
   "source": [
    "# Hypothesis Testing\n",
    "# 1.State the Hypotheses statement:\n",
    "# Ans. Null Hypothesis(H0): The weekly operating costs are the same as the claimed operating costs.\n",
    "# Alternate Hypothesis(H1): The claimed operating costs are more than the weekly operating costs given by the equation."
   ]
  },
  {
   "cell_type": "code",
   "execution_count": 92,
   "id": "05d1d5f8-e005-452a-882c-c14e739a2d0a",
   "metadata": {},
   "outputs": [
    {
     "name": "stdout",
     "output_type": "stream",
     "text": [
      " The Test statistic for the given problem is -38.0\n"
     ]
    }
   ],
   "source": [
    "# 2.Calculate the Test Statistic:\n",
    "# from the problem we have to use a right tailed one sample t test\n",
    "# z statistic formula for 1 sample T test: (sample mean - population mean )/ (popstd/sqrt(sample size))\n",
    "\n",
    "# import necessary packages\n",
    "import numpy as np\n",
    "\n",
    "#Given\n",
    "smean=3050\n",
    "pmean=1000+5*600\n",
    "pstd=5*25\n",
    "ssize=25\n",
    "\n",
    "# apply formula for z statistic\n",
    "tstat=(smean-pmean)/(pstd/np.sqrt(ssize))\n",
    "print(f' The Test statistic for the given problem is {tstat}')"
   ]
  },
  {
   "cell_type": "code",
   "execution_count": 93,
   "id": "c694ef90-5acd-4576-8a6c-bc4bb2360ded",
   "metadata": {},
   "outputs": [
    {
     "name": "stdout",
     "output_type": "stream",
     "text": [
      "The z-critical value is 1.6448536269514722\n",
      "The p value is 1.0\n"
     ]
    }
   ],
   "source": [
    "# 3.Determine the Critical Value:\n",
    "# Given\n",
    "alpha = 0.05\n",
    "\n",
    "# import necessary packages\n",
    "import scipy.stats as stats\n",
    "\n",
    "# Since the problem is a right tailed test we do not divide alpha by 2 and the result is +ve\n",
    "zcrit=stats.norm.ppf(1-alpha)\n",
    "print(f'The z-critical value is {zcrit}')\n",
    "pval=1-stats.norm.cdf(tstat)\n",
    "print(f'The p value is {pval}')"
   ]
  },
  {
   "cell_type": "code",
   "execution_count": 94,
   "id": "d4d1ab94-e8e4-49d3-a0c0-68b71880a2b1",
   "metadata": {},
   "outputs": [
    {
     "name": "stdout",
     "output_type": "stream",
     "text": [
      "Failed to reject the Null Hypothesis\n"
     ]
    }
   ],
   "source": [
    "# 4. Make a Decision: Using statistic and zcritical\n",
    "# from right tailed test we can conclude the following:\n",
    "if tstat > zcrit:\n",
    "    print('Null Hypothesis can be rejected')\n",
    "else:\n",
    "    print('Failed to reject the Null Hypothesis')\n"
   ]
  },
  {
   "cell_type": "code",
   "execution_count": 95,
   "id": "51a96ee4-f07b-4735-9dc9-c92df49ea5f0",
   "metadata": {},
   "outputs": [
    {
     "name": "stdout",
     "output_type": "stream",
     "text": [
      "Failed to reject the Null Hypothesis\n"
     ]
    }
   ],
   "source": [
    "# 4. Make a Decision: Using pvalue and alpha\n",
    "if pval < alpha:\n",
    "    print('Null Hypothesis can be rejected')\n",
    "else:\n",
    "    print('Failed to reject the Null Hypothesis')"
   ]
  },
  {
   "cell_type": "code",
   "execution_count": 96,
   "id": "25bafcb0-0332-433f-8553-c8d931f64105",
   "metadata": {},
   "outputs": [],
   "source": [
    "# 5. Conclusion:\n",
    "# Thus there is no strong evidence to support the restaurant owner's claim that the weekly operating costs are higher than the model suggests."
   ]
  },
  {
   "cell_type": "code",
   "execution_count": 97,
   "id": "06f34132-7f0a-47fd-bc36-c80565356131",
   "metadata": {},
   "outputs": [],
   "source": [
    "# "
   ]
  },
  {
   "cell_type": "code",
   "execution_count": 98,
   "id": "54547a73-b45b-4b52-992d-d16363ddf0b8",
   "metadata": {},
   "outputs": [],
   "source": [
    "# "
   ]
  },
  {
   "cell_type": "code",
   "execution_count": 99,
   "id": "3dc14c1a-7198-49d0-9396-8ed56d1650b4",
   "metadata": {},
   "outputs": [],
   "source": [
    "# CHI-SQUARE TEST\n",
    "# Association between Device Type and Customer Satisfaction"
   ]
  },
  {
   "cell_type": "code",
   "execution_count": 100,
   "id": "cc2f39b4-aa02-4993-ac1b-fe419b1ef94b",
   "metadata": {},
   "outputs": [],
   "source": [
    "# 1.State the Hypotheses statement:\n",
    "# Ans. Null Hypothesis(H0): There is no association between the device type and customer satisfaction variables.\n",
    "# Alternate Hypothesis(H1): There is an association of some significance between the device type and customer satisfaction variables."
   ]
  },
  {
   "cell_type": "code",
   "execution_count": 101,
   "id": "da803db5-3c10-4a44-9ee0-88e3c20df7f0",
   "metadata": {},
   "outputs": [
    {
     "data": {
      "text/html": [
       "<div>\n",
       "<style scoped>\n",
       "    .dataframe tbody tr th:only-of-type {\n",
       "        vertical-align: middle;\n",
       "    }\n",
       "\n",
       "    .dataframe tbody tr th {\n",
       "        vertical-align: top;\n",
       "    }\n",
       "\n",
       "    .dataframe thead th {\n",
       "        text-align: right;\n",
       "    }\n",
       "</style>\n",
       "<table border=\"1\" class=\"dataframe\">\n",
       "  <thead>\n",
       "    <tr style=\"text-align: right;\">\n",
       "      <th></th>\n",
       "      <th>Smart Thermostat</th>\n",
       "      <th>SmartLight</th>\n",
       "    </tr>\n",
       "  </thead>\n",
       "  <tbody>\n",
       "    <tr>\n",
       "      <th>Very Satisfied</th>\n",
       "      <td>50</td>\n",
       "      <td>70</td>\n",
       "    </tr>\n",
       "    <tr>\n",
       "      <th>Satisfied</th>\n",
       "      <td>80</td>\n",
       "      <td>100</td>\n",
       "    </tr>\n",
       "    <tr>\n",
       "      <th>Neutral</th>\n",
       "      <td>60</td>\n",
       "      <td>90</td>\n",
       "    </tr>\n",
       "    <tr>\n",
       "      <th>Unsatisfied</th>\n",
       "      <td>30</td>\n",
       "      <td>50</td>\n",
       "    </tr>\n",
       "    <tr>\n",
       "      <th>Very Unsatisfied</th>\n",
       "      <td>20</td>\n",
       "      <td>50</td>\n",
       "    </tr>\n",
       "  </tbody>\n",
       "</table>\n",
       "</div>"
      ],
      "text/plain": [
       "                  Smart Thermostat  SmartLight\n",
       "Very Satisfied                  50          70\n",
       "Satisfied                       80         100\n",
       "Neutral                         60          90\n",
       "Unsatisfied                     30          50\n",
       "Very Unsatisfied                20          50"
      ]
     },
     "execution_count": 101,
     "metadata": {},
     "output_type": "execute_result"
    }
   ],
   "source": [
    "# 2. Compute the Chi-Square Statistic:\n",
    "# First we convert the data into an data frame contingency table\n",
    "# Then we apply the chisquare formula = Summation(((Oi-Ei)*(Oi-Ei))/Ei)\n",
    "\n",
    "import pandas as pd\n",
    "\n",
    "mylist=[[50,70],[80,100],[60,90],[30,50],[20,50]]\n",
    "df=pd.DataFrame(mylist,columns=['Smart Thermostat','SmartLight'],index=['Very Satisfied','Satisfied','Neutral','Unsatisfied','Very Unsatisfied'])\n",
    "df"
   ]
  },
  {
   "cell_type": "code",
   "execution_count": 102,
   "id": "c1fdb0c4-c0e0-4f94-8fe6-803fe5b79603",
   "metadata": {},
   "outputs": [
    {
     "name": "stdout",
     "output_type": "stream",
     "text": [
      "The observed values are\n"
     ]
    },
    {
     "data": {
      "text/plain": [
       "array([[ 50,  70],\n",
       "       [ 80, 100],\n",
       "       [ 60,  90],\n",
       "       [ 30,  50],\n",
       "       [ 20,  50]], dtype=int64)"
      ]
     },
     "execution_count": 102,
     "metadata": {},
     "output_type": "execute_result"
    }
   ],
   "source": [
    "# 2. Compute the Chi-Square Statistic:\n",
    "# Method 1: using chi2_contingency function from scipy.stats\n",
    "obsval=df.values\n",
    "print('The observed values are')\n",
    "obsval"
   ]
  },
  {
   "cell_type": "code",
   "execution_count": 103,
   "id": "091375cb-d883-45a7-905b-623e1d968a1f",
   "metadata": {},
   "outputs": [
    {
     "name": "stdout",
     "output_type": "stream",
     "text": [
      "Chi-Square Statistic= 5.638227513227513\n",
      "P value= 0.22784371130697179\n"
     ]
    },
    {
     "data": {
      "text/plain": [
       "Chi2ContingencyResult(statistic=5.638227513227513, pvalue=0.22784371130697179, dof=4, expected_freq=array([[ 48.,  72.],\n",
       "       [ 72., 108.],\n",
       "       [ 60.,  90.],\n",
       "       [ 32.,  48.],\n",
       "       [ 28.,  42.]]))"
      ]
     },
     "execution_count": 103,
     "metadata": {},
     "output_type": "execute_result"
    }
   ],
   "source": [
    "# Here chi2_contingency function returns statistic, pvalue and an array of the expected frequency of independent variables\n",
    "import scipy.stats as stats\n",
    "\n",
    "value=stats.chi2_contingency(df)\n",
    "print(f'Chi-Square Statistic= {value[0]}')\n",
    "print(f'P value= {value[1]}')\n",
    "value"
   ]
  },
  {
   "cell_type": "code",
   "execution_count": 104,
   "id": "fe1fc64d-b7ce-4b56-9149-1f6ec1bc1d42",
   "metadata": {},
   "outputs": [
    {
     "data": {
      "text/plain": [
       "array([[ 48.,  72.],\n",
       "       [ 72., 108.],\n",
       "       [ 60.,  90.],\n",
       "       [ 32.,  48.],\n",
       "       [ 28.,  42.]])"
      ]
     },
     "execution_count": 104,
     "metadata": {},
     "output_type": "execute_result"
    }
   ],
   "source": [
    "# Method 2:\n",
    "# Here we make use of the traditional formula for calculating the statistic\n",
    "# degrees of freedom= (no.of.rows -1) * (no.of.columns -1)\n",
    "# given alpha=0.05\n",
    "# We make use of the expected frequency array using 'value[3]' from the contingency function so it helps us save time in calculating the table\n",
    "nrows=len(df.iloc[0:,0])\n",
    "ncols=len(df.iloc[0,0:])\n",
    "ddof=(nrows-1)*(ncols-1)\n",
    "alpha=0.05\n",
    "expval=value[3]\n",
    "expval"
   ]
  },
  {
   "cell_type": "code",
   "execution_count": 105,
   "id": "360e5aeb-16b3-41e1-ae08-9d44456722ef",
   "metadata": {},
   "outputs": [],
   "source": [
    "# Apply the formula =Summation(((Oi-Ei)*(Oi-Ei))/Ei)\n",
    "chi_square=sum([(o-e) ** 2./e for o,e in zip(obsval,expval)])\n",
    "chistat=chi_square[0]+chi_square[1]"
   ]
  },
  {
   "cell_type": "code",
   "execution_count": 106,
   "id": "91fb917c-04eb-40fd-9ded-0991b9a75eb2",
   "metadata": {},
   "outputs": [
    {
     "name": "stdout",
     "output_type": "stream",
     "text": [
      "chi-square statistic :-  5.638227513227513\n"
     ]
    }
   ],
   "source": [
    "print(\"chi-square statistic :- \",chistat)"
   ]
  },
  {
   "cell_type": "code",
   "execution_count": 107,
   "id": "d481f3ec-89fc-4e8e-ada4-05f44796710c",
   "metadata": {},
   "outputs": [
    {
     "name": "stdout",
     "output_type": "stream",
     "text": [
      "critical_value: 9.487729036781154\n"
     ]
    }
   ],
   "source": [
    "# 3. Determine the Critical Value:\n",
    "# we calculate the criical value using the stats.chi2 function\n",
    "from scipy.stats import chi2\n",
    "critval=chi2.ppf(q=1-alpha,df=ddof)\n",
    "print('critical_value:',critval)"
   ]
  },
  {
   "cell_type": "code",
   "execution_count": 108,
   "id": "d417813d-b292-431c-adf5-ed8c4d852879",
   "metadata": {},
   "outputs": [
    {
     "name": "stdout",
     "output_type": "stream",
     "text": [
      "Significance level:  0.05\n",
      "Degree of Freedom:  4\n",
      "p-value: 0.22784371130697179\n"
     ]
    }
   ],
   "source": [
    "#p-value\n",
    "# we calculate the criical value using the stats.chi2 function\n",
    "p_value=1-chi2.cdf(x=chistat,df=ddof)\n",
    "print('Significance level: ',alpha)\n",
    "print('Degree of Freedom: ',ddof)\n",
    "print('p-value:',p_value)"
   ]
  },
  {
   "cell_type": "code",
   "execution_count": 109,
   "id": "d8feacdb-e77e-40ad-8df1-9b6a60d5d620",
   "metadata": {},
   "outputs": [
    {
     "name": "stdout",
     "output_type": "stream",
     "text": [
      "Fail to reject Null Hypothesis, There is no relationship between 2 categorical variables\n"
     ]
    }
   ],
   "source": [
    "# 4. Make a Decision: Using chistatistic and crit value\n",
    "if chistat>critval:\n",
    "   print(\"Reject Null Hypothesis,There is a relationship between 2 categorical variables\")\n",
    "else:\n",
    "   print(\"Fail to reject Null Hypothesis, There is no relationship between 2 categorical variables\")"
   ]
  },
  {
   "cell_type": "code",
   "execution_count": 110,
   "id": "9848d505-fee1-411e-a935-07cc8f381e71",
   "metadata": {},
   "outputs": [
    {
     "name": "stdout",
     "output_type": "stream",
     "text": [
      "Fail to reject Null Hypothesis, There is no relationship between 2 categorical variables\n"
     ]
    }
   ],
   "source": [
    "# 4. Make a Decision: Using pvalue and alpha\n",
    "if p_value<alpha:\n",
    "   print(\"Reject Null Hypothesis,There is a relationship between 2 categorical variables\")\n",
    "else:\n",
    "   print(\"Fail to reject Null Hypothesis, There is no relationship between 2 categorical variables\")"
   ]
  },
  {
   "cell_type": "code",
   "execution_count": 111,
   "id": "4063d168-4728-47e7-81e1-b0db10c4ef9e",
   "metadata": {},
   "outputs": [],
   "source": [
    "# 5. Conclusion:\n",
    "# Thus there is no strong evidence that the 2 variables namely Device Type and Customer satisfaction are associated with each other "
   ]
  }
 ],
 "metadata": {
  "kernelspec": {
   "display_name": "Python 3 (ipykernel)",
   "language": "python",
   "name": "python3"
  },
  "language_info": {
   "codemirror_mode": {
    "name": "ipython",
    "version": 3
   },
   "file_extension": ".py",
   "mimetype": "text/x-python",
   "name": "python",
   "nbconvert_exporter": "python",
   "pygments_lexer": "ipython3",
   "version": "3.11.7"
  }
 },
 "nbformat": 4,
 "nbformat_minor": 5
}
